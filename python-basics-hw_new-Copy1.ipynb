{
 "cells": [
  {
   "cell_type": "markdown",
   "metadata": {},
   "source": [
    "**Задание 1**. Даны 2 строки: *long_phrase* и *short_phrase*. \n",
    "Напишите код, который проверяет действительно ли длинная фраза *long_phrase* длиннее короткой *short_phrase*. И выводит *True* или *False* в зависимости от результата сравнения."
   ]
  },
  {
   "cell_type": "code",
   "execution_count": 2,
   "metadata": {},
   "outputs": [],
   "source": [
    "long_phrase = 'Насколько проще было бы писать программы, если бы не заказчики'\n",
    "short_phrase = '640Кб должно хватить для любых задач. Билл Гейтс (по легенде)'"
   ]
  },
  {
   "cell_type": "code",
   "execution_count": 1,
   "metadata": {},
   "outputs": [
    {
     "data": {
      "text/plain": [
       "True"
      ]
     },
     "execution_count": 1,
     "metadata": {},
     "output_type": "execute_result"
    }
   ],
   "source": [
    "long_phrase = 'Насколько проще было бы писать программы, если бы не заказчики'\n",
    "short_phrase = '640Кб должно хватить для любых задач. Билл Гейтс (по легенде)'\n",
    "len(long_phrase) > len(short_phrase)"
   ]
  },
  {
   "cell_type": "markdown",
   "metadata": {},
   "source": [
    "**Задание 2**. Дано значение объема файла в байтах. Напишите перевод этого значения в мегабайты в формате: \"*Объем файла равен 213.68Mb*\""
   ]
  },
  {
   "cell_type": "code",
   "execution_count": 3,
   "metadata": {},
   "outputs": [
    {
     "name": "stdout",
     "output_type": "stream",
     "text": [
      "Объем файла равен 213.68 Mb\n"
     ]
    }
   ],
   "source": [
    "x = 218808.32\n",
    "y = x/1024\n",
    "print ('Объем файла равен', y, 'Mb')"
   ]
  },
  {
   "cell_type": "markdown",
   "metadata": {},
   "source": [
    "**Задание 3**. Разработать приложение для определения знака зодиака по дате рождения. Пример:\n",
    "\n",
    "Введите месяц: март\n",
    "\n",
    "Введите число: 6\n",
    "\n",
    "Вывод:\n",
    "Рыбы"
   ]
  },
  {
   "cell_type": "code",
   "execution_count": 4,
   "metadata": {},
   "outputs": [
    {
     "name": "stdout",
     "output_type": "stream",
     "text": [
      "Введите месяц: май\n",
      "Введите день: 2\n",
      "Телец\n"
     ]
    }
   ],
   "source": [
    "user_input_1= str(input('Введите месяц: ').lower())\n",
    "user_input_2= int(input('Введите день: '))\n",
    "if user_input_2 < 31:\n",
    "    if (user_input_1 == 'январь' and user_input_2 <21) or (user_input_1 == 'декабрь' and user_input_2 >21):\n",
    "        print ('Козерог')\n",
    "    elif (user_input_1 == 'январь' and user_input_2 > 21) or (user_input_1 == 'февраль' and user_input_2 < 20):\n",
    "        print ('Водолей')\n",
    "    elif (user_input_1 == 'февраль' and user_input_2 > 21) or (user_input_1 == 'март' and user_input_2 < 20):\n",
    "        print ('Рыбы')\n",
    "    elif (user_input_1 == 'март' and user_input_2 > 21) or (user_input_1 == 'апрель' and user_input_2 < 20):\n",
    "        print ('Овен')\n",
    "    elif (user_input_1 == 'апрель' and user_input_2 > 21) or (user_input_1 == 'май' and user_input_2 < 20):\n",
    "        print ('Телец')\n",
    "    elif (user_input_1 == 'май' and user_input_2 > 21) or (user_input_1 == 'июнь' and user_input_2 < 20):\n",
    "        print ('Близнецы')\n",
    "    elif (user_input_1 == 'июнь' and user_input_2 > 21) or (user_input_1 == 'июль' and user_input_2 < 23):\n",
    "        print ('Рак')\n",
    "    elif (user_input_1 == 'июль' and user_input_2 > 21) or (user_input_1 == 'август' and user_input_2 < 24):\n",
    "        print ('Лев')\n",
    "    elif (user_input_1 == 'август' and user_input_2 > 23) or (user_input_1 == 'сентябрь' and user_input_2 < 25):\n",
    "        print ('Дева')\n",
    "    elif (user_input_1 == 'сентябрь' and user_input_2 > 23) or (user_input_1 == 'октябрь' and user_input_2 < 24):\n",
    "        print ('Весы')\n",
    "    elif (user_input_1 == 'октябрь' and user_input_2 > 23) or (user_input_1 == 'ноябрь' and user_input_2 < 23):\n",
    "        print ('Скорпион')\n",
    "else:\n",
    "    print ('некорректный день')"
   ]
  },
  {
   "cell_type": "markdown",
   "metadata": {},
   "source": [
    "**Задание 4**. Нужно разработать приложение для финансового планирования.\n",
    "Приложение учитывает сколько уходит на ипотеку, \"на жизнь\" и сколько нужно отложить на пенсию.\n",
    "Пользователь вводит:\n",
    "- заработанную плату в месяц.\n",
    "- сколько процентов от ЗП уходит на ипотеку.\n",
    "- сколько процентов от ЗП уходит \"на жизнь\".\n",
    "- сколько раз приходит премия в год.\n",
    "\n",
    "Остальная часть заработанной платы откладывается на пенсию.\n",
    "\n",
    "Также пользователю приходит премия в размере зарплаты, от которой половина уходит на отпуск, а вторая половина откладывается.\n",
    "\n",
    "Программа должна учитывать сколько премий было в год.\n",
    "\n",
    "Нужно вывести сколько денег тратит пользователь на ипотеку и сколько он накопит за год.\n",
    "\n",
    "Пример:\n",
    "\n",
    "Введите заработанную плату в месяц: 100000\n",
    "\n",
    "Введите сколько процентов уходит на ипотеку: 30\n",
    "\n",
    "Введите сколько процентов уходит на жизнь: 50\n",
    "\n",
    "Введите количество премий за год: 2\n",
    "\n",
    "Вывод:\n",
    "На ипотеку было потрачено: 360000 рублей\n",
    "Было накоплено: 340000 рублей"
   ]
  },
  {
   "cell_type": "code",
   "execution_count": 5,
   "metadata": {},
   "outputs": [
    {
     "name": "stdout",
     "output_type": "stream",
     "text": [
      "Введите заработанную плату в месяц: \n",
      "100000\n",
      "Введите сколько процентов уходит на ипотеку: \n",
      "30\n",
      "Введите сколько процентов уходит на жизнь: \n",
      "50\n",
      "Введите количество премий за год: \n",
      "2\n",
      "На ипотеку было потрачено:  360000.0 рублей. Было накоплено:  340000.0 рублей.\n"
     ]
    }
   ],
   "source": [
    "print ('Введите заработанную плату в месяц: ')\n",
    "salary = int(input())\n",
    "print ('Введите сколько процентов уходит на ипотеку: ')\n",
    "mortgage = int(input())\n",
    "print ('Введите сколько процентов уходит на жизнь: ')\n",
    "living_expenses = int(input())\n",
    "print ('Введите количество премий за год: ')\n",
    "bonuses = int(input())\n",
    "print ('На ипотеку было потрачено: ', round(mortgage/100 * 12 * salary,0), 'рублей. Было накоплено: ', round((salary*12*(1-mortgage/100-living_expenses/100)+bonuses*salary/2),0), 'рублей.')"
   ]
  },
  {
   "cell_type": "code",
   "execution_count": null,
   "metadata": {},
   "outputs": [],
   "source": []
  }
 ],
 "metadata": {
  "kernelspec": {
   "display_name": "Python 3",
   "language": "python",
   "name": "python3"
  },
  "language_info": {
   "codemirror_mode": {
    "name": "ipython",
    "version": 3
   },
   "file_extension": ".py",
   "mimetype": "text/x-python",
   "name": "python",
   "nbconvert_exporter": "python",
   "pygments_lexer": "ipython3",
   "version": "3.7.4"
  }
 },
 "nbformat": 4,
 "nbformat_minor": 2
}
