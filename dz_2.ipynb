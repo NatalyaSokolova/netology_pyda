{
 "cells": [
  {
   "cell_type": "markdown",
   "metadata": {
    "colab_type": "text",
    "id": "view-in-github"
   },
   "source": [
    "<a href=\"https://colab.research.google.com/github/yustinaivanova/netology_statistics/blob/master/dz_2.ipynb\" target=\"_parent\"><img src=\"https://colab.research.google.com/assets/colab-badge.svg\" alt=\"Open In Colab\"/></a>"
   ]
  },
  {
   "cell_type": "markdown",
   "metadata": {
    "colab_type": "text",
    "id": "9wqpiQR2AbtX"
   },
   "source": [
    "# Виды распределений"
   ]
  },
  {
   "cell_type": "markdown",
   "metadata": {
    "colab_type": "text",
    "id": "V3N8qycM-xP9"
   },
   "source": [
    "Загрузить таблицу и построить график распределений. Найти нормальное распределение."
   ]
  },
  {
   "cell_type": "code",
   "execution_count": 2,
   "metadata": {
    "colab": {},
    "colab_type": "code",
    "id": "Zo_j9HCKCPgi"
   },
   "outputs": [],
   "source": [
    "import numpy as np\n",
    "from scipy.stats import t\n",
    "from scipy.stats import norm\n",
    "import matplotlib.pyplot as plt\n",
    "from scipy import stats\n",
    "import pandas as pd\n",
    "import io\n",
    "import requests\n",
    "import seaborn as sns\n",
    "\n",
    "%matplotlib inline"
   ]
  },
  {
   "cell_type": "markdown",
   "metadata": {
    "colab_type": "text",
    "id": "LrhPyaIACZsb"
   },
   "source": [
    "Таблица цен на дома в Бостоне"
   ]
  },
  {
   "cell_type": "markdown",
   "metadata": {
    "colab_type": "text",
    "id": "XyNNmtvIDDy3"
   },
   "source": [
    "Основные значения:\n",
    "\n",
    "* CRIM: This is the per capita crime rate by town\n",
    "* ZN: This is the proportion of residential land zoned for lots larger than 25,000 sq.ft.\n",
    "* INDUS: This is the proportion of non-retail business acres per town.\n",
    "* CHAS: This is the Charles River dummy variable (this is equal to 1 if tract bounds river; 0 otherwise)\n",
    "* NOX: This is the nitric oxides concentration (parts per 10 million)\n",
    "* RM: This is the average number of rooms per dwelling\n",
    "* AGE: This is the proportion of owner-occupied units built prior to 1940\n",
    "* DIS: This is the weighted distances to five Boston employment centers\n",
    "* RAD: This is the index of accessibility to radial highways\n",
    "* TAX: This is the full-value property-tax rate per 10,000 dollars\n",
    "* PTRATIO: This is the pupil-teacher ratio by town\n",
    "* B: This is calculated as 1000(Bk — 0.63)², where Bk is the proportion of people of African American descent by town\n",
    "* LSTAT: This is the percentage lower status of the population\n",
    "* MEDV: This is the median value of owner-occupied homes in 1000 dollars"
   ]
  },
  {
   "cell_type": "code",
   "execution_count": 170,
   "metadata": {
    "colab": {
     "base_uri": "https://localhost:8080/",
     "height": 204
    },
    "colab_type": "code",
    "id": "Ona1gs72CZOq",
    "outputId": "455f9f96-3f49-4eb7-c928-fc732141d834"
   },
   "outputs": [
    {
     "data": {
      "text/html": [
       "<div>\n",
       "<style scoped>\n",
       "    .dataframe tbody tr th:only-of-type {\n",
       "        vertical-align: middle;\n",
       "    }\n",
       "\n",
       "    .dataframe tbody tr th {\n",
       "        vertical-align: top;\n",
       "    }\n",
       "\n",
       "    .dataframe thead th {\n",
       "        text-align: right;\n",
       "    }\n",
       "</style>\n",
       "<table border=\"1\" class=\"dataframe\">\n",
       "  <thead>\n",
       "    <tr style=\"text-align: right;\">\n",
       "      <th></th>\n",
       "      <th>CRIM</th>\n",
       "      <th>ZN</th>\n",
       "      <th>INDUS</th>\n",
       "      <th>CHAS</th>\n",
       "      <th>NOX</th>\n",
       "      <th>RM</th>\n",
       "      <th>AGE</th>\n",
       "      <th>DIS</th>\n",
       "      <th>RAD</th>\n",
       "      <th>TAX</th>\n",
       "      <th>PTRATIO</th>\n",
       "      <th>B</th>\n",
       "      <th>LSTAT</th>\n",
       "      <th>MEDV</th>\n",
       "    </tr>\n",
       "  </thead>\n",
       "  <tbody>\n",
       "    <tr>\n",
       "      <td>0</td>\n",
       "      <td>0.00632</td>\n",
       "      <td>18.0</td>\n",
       "      <td>2.31</td>\n",
       "      <td>0</td>\n",
       "      <td>0.538</td>\n",
       "      <td>6.575</td>\n",
       "      <td>65.2</td>\n",
       "      <td>4.0900</td>\n",
       "      <td>1</td>\n",
       "      <td>296.0</td>\n",
       "      <td>15.3</td>\n",
       "      <td>396.90</td>\n",
       "      <td>4.98</td>\n",
       "      <td>24.0</td>\n",
       "    </tr>\n",
       "    <tr>\n",
       "      <td>1</td>\n",
       "      <td>0.02731</td>\n",
       "      <td>0.0</td>\n",
       "      <td>7.07</td>\n",
       "      <td>0</td>\n",
       "      <td>0.469</td>\n",
       "      <td>6.421</td>\n",
       "      <td>78.9</td>\n",
       "      <td>4.9671</td>\n",
       "      <td>2</td>\n",
       "      <td>242.0</td>\n",
       "      <td>17.8</td>\n",
       "      <td>396.90</td>\n",
       "      <td>9.14</td>\n",
       "      <td>21.6</td>\n",
       "    </tr>\n",
       "    <tr>\n",
       "      <td>2</td>\n",
       "      <td>0.02729</td>\n",
       "      <td>0.0</td>\n",
       "      <td>7.07</td>\n",
       "      <td>0</td>\n",
       "      <td>0.469</td>\n",
       "      <td>7.185</td>\n",
       "      <td>61.1</td>\n",
       "      <td>4.9671</td>\n",
       "      <td>2</td>\n",
       "      <td>242.0</td>\n",
       "      <td>17.8</td>\n",
       "      <td>392.83</td>\n",
       "      <td>4.03</td>\n",
       "      <td>34.7</td>\n",
       "    </tr>\n",
       "    <tr>\n",
       "      <td>3</td>\n",
       "      <td>0.03237</td>\n",
       "      <td>0.0</td>\n",
       "      <td>2.18</td>\n",
       "      <td>0</td>\n",
       "      <td>0.458</td>\n",
       "      <td>6.998</td>\n",
       "      <td>45.8</td>\n",
       "      <td>6.0622</td>\n",
       "      <td>3</td>\n",
       "      <td>222.0</td>\n",
       "      <td>18.7</td>\n",
       "      <td>394.63</td>\n",
       "      <td>2.94</td>\n",
       "      <td>33.4</td>\n",
       "    </tr>\n",
       "    <tr>\n",
       "      <td>4</td>\n",
       "      <td>0.06905</td>\n",
       "      <td>0.0</td>\n",
       "      <td>2.18</td>\n",
       "      <td>0</td>\n",
       "      <td>0.458</td>\n",
       "      <td>7.147</td>\n",
       "      <td>54.2</td>\n",
       "      <td>6.0622</td>\n",
       "      <td>3</td>\n",
       "      <td>222.0</td>\n",
       "      <td>18.7</td>\n",
       "      <td>396.90</td>\n",
       "      <td>5.33</td>\n",
       "      <td>36.2</td>\n",
       "    </tr>\n",
       "  </tbody>\n",
       "</table>\n",
       "</div>"
      ],
      "text/plain": [
       "      CRIM    ZN  INDUS  CHAS    NOX     RM   AGE     DIS  RAD    TAX  \\\n",
       "0  0.00632  18.0   2.31     0  0.538  6.575  65.2  4.0900    1  296.0   \n",
       "1  0.02731   0.0   7.07     0  0.469  6.421  78.9  4.9671    2  242.0   \n",
       "2  0.02729   0.0   7.07     0  0.469  7.185  61.1  4.9671    2  242.0   \n",
       "3  0.03237   0.0   2.18     0  0.458  6.998  45.8  6.0622    3  222.0   \n",
       "4  0.06905   0.0   2.18     0  0.458  7.147  54.2  6.0622    3  222.0   \n",
       "\n",
       "   PTRATIO       B  LSTAT  MEDV  \n",
       "0     15.3  396.90   4.98  24.0  \n",
       "1     17.8  396.90   9.14  21.6  \n",
       "2     17.8  392.83   4.03  34.7  \n",
       "3     18.7  394.63   2.94  33.4  \n",
       "4     18.7  396.90   5.33  36.2  "
      ]
     },
     "execution_count": 170,
     "metadata": {},
     "output_type": "execute_result"
    }
   ],
   "source": [
    "import ssl\n",
    "# следующая строчка подключает сертификат для защищенного соединения\n",
    "ssl._create_default_https_context = ssl._create_unverified_context\n",
    "url='http://yustiks.ru/dataset/housing.csv'\n",
    "names = ['CRIM', 'ZN', 'INDUS', 'CHAS', 'NOX', 'RM', 'AGE', 'DIS', 'RAD', 'TAX', 'PTRATIO', 'B', 'LSTAT', 'MEDV']\n",
    "data=pd.read_csv(url,  delim_whitespace=True, names=names)\n",
    "data.head()"
   ]
  },
  {
   "cell_type": "markdown",
   "metadata": {
    "colab_type": "text",
    "id": "KwpYBJZiE1EO"
   },
   "source": [
    "Нарисовать частотные графики для всех значений. Можете ли вы найти следующие распределения в данных графиках?\n",
    "\n",
    "\n",
    "1.   Нормальное - да, столбцы RM, MEDV\n",
    "2.   Равномерное - нет\n",
    "3.   Биноминальное - LSTAT\n",
    "4.   Бернулли - нет\n",
    "5.   Геометрическое - DIS, CRIM, ZN(пох-оже, но не точно)\n",
    "6.   Логнормальное - нет\n",
    "\n"
   ]
  },
  {
   "cell_type": "code",
   "execution_count": 174,
   "metadata": {},
   "outputs": [
    {
     "data": {
      "image/png": "[encoded data removed]",
      "text/plain": [
       "<Figure size 1440x1440 with 16 Axes>"
      ]
     },
     "metadata": {
      "needs_background": "light"
     },
     "output_type": "display_data"
    }
   ],
   "source": [
    "data.hist(figsize=(20,20))\n",
    "plt.show()"
   ]
  },
  {
   "cell_type": "markdown",
   "metadata": {},
   "source": [
    "Построить матрицу корреляций для данной таблицы и выбрать максимально коррелирующий атрибут (несколько атрибутов) с ценой на дома (MEDV атрибут)."
   ]
  },
  {
   "cell_type": "code",
   "execution_count": 33,
   "metadata": {},
   "outputs": [
    {
     "data": {
      "image/png": "[encoded data removed]",
      "text/plain": [
       "<Figure size 1440x1440 with 2 Axes>"
      ]
     },
     "metadata": {
      "needs_background": "light"
     },
     "output_type": "display_data"
    }
   ],
   "source": [
    "#Цена недвижимости - поле MEDV. Оно наиболее коррелирует со столбцами LSTAT (-0.74, обратная зависимость) и \n",
    "#RM (0.7, количество комнат)\n",
    "# По убыванию: >50% - коэффициент корреляции с показателем PTRATIO, но мне кажется, что это совпадение, зависимости быть\n",
    "#не должно\n",
    "\n",
    "import seaborn as sns\n",
    "sns.heatmap(data.corr(),annot=True,cmap='RdYlGn',linewidths=0.2) #data.corr()-->матрица корреляций\n",
    "# gcf() - получение текущей фигуры\n",
    "fig=plt.gcf()\n",
    "# set_size_inches() - установить размер фигуры\n",
    "fig.set_size_inches(20,20)\n",
    "plt.show()"
   ]
  },
  {
   "cell_type": "markdown",
   "metadata": {
    "colab_type": "text",
    "id": "111lURJGVrbU"
   },
   "source": [
    "Написать **линейную регрессию** на два атрибута. Допустим, мы хотим предсказать цену дома (MEDV) в Бостоне, зная что цена на дом имеет линейную зависимость с атрибутом LSTAT. "
   ]
  },
  {
   "cell_type": "markdown",
   "metadata": {
    "colab_type": "text",
    "id": "Naz_Byg1WKhm"
   },
   "source": [
    "\n",
    "\n",
    "1.   Разделить данные на 80% тренировочных, 20% тестовых\n",
    "2.   Составить модель линейной регрессии\n",
    "3.   Посчитать ошибку модели на тестовых данных\n",
    "4.   Сделать точечный график данных и полученной прямой линейной регрессии\n",
    "\n"
   ]
  },
  {
   "cell_type": "code",
   "execution_count": 52,
   "metadata": {},
   "outputs": [],
   "source": [
    "price=data['MEDV']\n",
    "lower_status=data['LSTAT']"
   ]
  },
  {
   "cell_type": "code",
   "execution_count": 53,
   "metadata": {},
   "outputs": [],
   "source": [
    "price=np.array(price).reshape(-1,1)\n",
    "lower_status=np.array(lower_status).reshape(-1,1)"
   ]
  },
  {
   "cell_type": "code",
   "execution_count": 54,
   "metadata": {},
   "outputs": [],
   "source": [
    "from sklearn.linear_model import LinearRegression\n",
    "model=LinearRegression()"
   ]
  },
  {
   "cell_type": "code",
   "execution_count": 70,
   "metadata": {},
   "outputs": [],
   "source": [
    "from sklearn.model_selection import train_test_split\n",
    "\n",
    "# x = lower_status\n",
    "# y = price\n",
    "X_train, X_test, y_train, y_test = train_test_split(\n",
    "    lower_status,\n",
    "    price,\n",
    "    test_size = 0.2\n",
    ")\n"
   ]
  },
  {
   "cell_type": "code",
   "execution_count": 71,
   "metadata": {},
   "outputs": [
    {
     "data": {
      "text/plain": [
       "LinearRegression(copy_X=True, fit_intercept=True, n_jobs=None, normalize=False)"
      ]
     },
     "execution_count": 71,
     "metadata": {},
     "output_type": "execute_result"
    }
   ],
   "source": [
    "model.fit(X_train, y_train)"
   ]
  },
  {
   "cell_type": "code",
   "execution_count": 72,
   "metadata": {},
   "outputs": [
    {
     "data": {
      "text/plain": [
       "0.5318874207774387"
      ]
     },
     "execution_count": 72,
     "metadata": {},
     "output_type": "execute_result"
    }
   ],
   "source": [
    "#Низкая точность модели - 53%\n",
    "model.score(X_test, y_test)"
   ]
  },
  {
   "cell_type": "code",
   "execution_count": 68,
   "metadata": {},
   "outputs": [],
   "source": [
    "predicted_y=model.predict(X_test)"
   ]
  },
  {
   "cell_type": "code",
   "execution_count": 95,
   "metadata": {},
   "outputs": [
    {
     "data": {
      "text/plain": [
       "(-10, 60)"
      ]
     },
     "execution_count": 95,
     "metadata": {},
     "output_type": "execute_result"
    },
    {
     "data": {
      "image/png": "[encoded data removed]",
      "text/plain": [
       "<Figure size 432x288 with 1 Axes>"
      ]
     },
     "metadata": {
      "needs_background": "light"
     },
     "output_type": "display_data"
    }
   ],
   "source": [
    "plt.xlabel('LSTAT (lower income score)')\n",
    "plt.ylabel('average real estate price')\n",
    "plt.title('Зависимость стоимости жилья от статуса проживающих в районе семей')\n",
    "\n",
    "#Рисуем прямую\n",
    "x=np.linspace(-50,200,100)\n",
    "y=model.coef_*x+model.intercept_\n",
    "y=np.transpose(y)\n",
    "plt.plot(x,y)\n",
    "plt.plot(X_train, y_train, 'r.')\n",
    "plt.plot(X_test, y_test, 'go')\n",
    "plt.legend(['Прямая линейной регрессии', 'Тренировочные данные', 'Тестовые данные'])\n",
    "plt.xlim(-10,50)\n",
    "plt.ylim(-10,60)"
   ]
  },
  {
   "cell_type": "markdown",
   "metadata": {},
   "source": [
    "# Задание 2"
   ]
  },
  {
   "cell_type": "markdown",
   "metadata": {
    "colab_type": "text",
    "id": "zqiJHPz7FUT2"
   },
   "source": [
    "Загрузить таблицу Happiness report. Посчитать матрицу ковариаций попарно. "
   ]
  },
  {
   "cell_type": "code",
   "execution_count": 97,
   "metadata": {
    "colab": {
     "base_uri": "https://localhost:8080/",
     "height": 238
    },
    "colab_type": "code",
    "id": "4FVMs-hUiv4i",
    "outputId": "4f8bb858-e745-4832-e05a-a40c48f8fa8a"
   },
   "outputs": [
    {
     "data": {
      "text/html": [
       "<div>\n",
       "<style scoped>\n",
       "    .dataframe tbody tr th:only-of-type {\n",
       "        vertical-align: middle;\n",
       "    }\n",
       "\n",
       "    .dataframe tbody tr th {\n",
       "        vertical-align: top;\n",
       "    }\n",
       "\n",
       "    .dataframe thead th {\n",
       "        text-align: right;\n",
       "    }\n",
       "</style>\n",
       "<table border=\"1\" class=\"dataframe\">\n",
       "  <thead>\n",
       "    <tr style=\"text-align: right;\">\n",
       "      <th></th>\n",
       "      <th>Country (region)</th>\n",
       "      <th>Ladder</th>\n",
       "      <th>SD of Ladder</th>\n",
       "      <th>Positive affect</th>\n",
       "      <th>Negative affect</th>\n",
       "      <th>Social support</th>\n",
       "      <th>Freedom</th>\n",
       "      <th>Corruption</th>\n",
       "      <th>Generosity</th>\n",
       "      <th>Log of GDP\\nper capita</th>\n",
       "      <th>Healthy life\\nexpectancy</th>\n",
       "    </tr>\n",
       "  </thead>\n",
       "  <tbody>\n",
       "    <tr>\n",
       "      <td>0</td>\n",
       "      <td>Finland</td>\n",
       "      <td>1</td>\n",
       "      <td>4</td>\n",
       "      <td>41.0</td>\n",
       "      <td>10.0</td>\n",
       "      <td>2.0</td>\n",
       "      <td>5.0</td>\n",
       "      <td>4.0</td>\n",
       "      <td>47.0</td>\n",
       "      <td>22.0</td>\n",
       "      <td>27.0</td>\n",
       "    </tr>\n",
       "    <tr>\n",
       "      <td>1</td>\n",
       "      <td>Denmark</td>\n",
       "      <td>2</td>\n",
       "      <td>13</td>\n",
       "      <td>24.0</td>\n",
       "      <td>26.0</td>\n",
       "      <td>4.0</td>\n",
       "      <td>6.0</td>\n",
       "      <td>3.0</td>\n",
       "      <td>22.0</td>\n",
       "      <td>14.0</td>\n",
       "      <td>23.0</td>\n",
       "    </tr>\n",
       "    <tr>\n",
       "      <td>2</td>\n",
       "      <td>Norway</td>\n",
       "      <td>3</td>\n",
       "      <td>8</td>\n",
       "      <td>16.0</td>\n",
       "      <td>29.0</td>\n",
       "      <td>3.0</td>\n",
       "      <td>3.0</td>\n",
       "      <td>8.0</td>\n",
       "      <td>11.0</td>\n",
       "      <td>7.0</td>\n",
       "      <td>12.0</td>\n",
       "    </tr>\n",
       "    <tr>\n",
       "      <td>3</td>\n",
       "      <td>Iceland</td>\n",
       "      <td>4</td>\n",
       "      <td>9</td>\n",
       "      <td>3.0</td>\n",
       "      <td>3.0</td>\n",
       "      <td>1.0</td>\n",
       "      <td>7.0</td>\n",
       "      <td>45.0</td>\n",
       "      <td>3.0</td>\n",
       "      <td>15.0</td>\n",
       "      <td>13.0</td>\n",
       "    </tr>\n",
       "    <tr>\n",
       "      <td>4</td>\n",
       "      <td>Netherlands</td>\n",
       "      <td>5</td>\n",
       "      <td>1</td>\n",
       "      <td>12.0</td>\n",
       "      <td>25.0</td>\n",
       "      <td>15.0</td>\n",
       "      <td>19.0</td>\n",
       "      <td>12.0</td>\n",
       "      <td>7.0</td>\n",
       "      <td>12.0</td>\n",
       "      <td>18.0</td>\n",
       "    </tr>\n",
       "  </tbody>\n",
       "</table>\n",
       "</div>"
      ],
      "text/plain": [
       "  Country (region)  Ladder  SD of Ladder  Positive affect  Negative affect  \\\n",
       "0          Finland       1             4             41.0             10.0   \n",
       "1          Denmark       2            13             24.0             26.0   \n",
       "2           Norway       3             8             16.0             29.0   \n",
       "3          Iceland       4             9              3.0              3.0   \n",
       "4      Netherlands       5             1             12.0             25.0   \n",
       "\n",
       "   Social support  Freedom  Corruption  Generosity  Log of GDP\\nper capita  \\\n",
       "0             2.0      5.0         4.0        47.0                    22.0   \n",
       "1             4.0      6.0         3.0        22.0                    14.0   \n",
       "2             3.0      3.0         8.0        11.0                     7.0   \n",
       "3             1.0      7.0        45.0         3.0                    15.0   \n",
       "4            15.0     19.0        12.0         7.0                    12.0   \n",
       "\n",
       "   Healthy life\\nexpectancy  \n",
       "0                      27.0  \n",
       "1                      23.0  \n",
       "2                      12.0  \n",
       "3                      13.0  \n",
       "4                      18.0  "
      ]
     },
     "execution_count": 97,
     "metadata": {},
     "output_type": "execute_result"
    }
   ],
   "source": [
    "url=\"http://yustiks.ru/dataset/world-happiness-report-2019.csv\"\n",
    "data_new=pd.read_csv(url)\n",
    "data_new.head()"
   ]
  },
  {
   "cell_type": "code",
   "execution_count": 102,
   "metadata": {
    "scrolled": true
   },
   "outputs": [
    {
     "data": {
      "text/html": [
       "<div>\n",
       "<style scoped>\n",
       "    .dataframe tbody tr th:only-of-type {\n",
       "        vertical-align: middle;\n",
       "    }\n",
       "\n",
       "    .dataframe tbody tr th {\n",
       "        vertical-align: top;\n",
       "    }\n",
       "\n",
       "    .dataframe thead th {\n",
       "        text-align: right;\n",
       "    }\n",
       "</style>\n",
       "<table border=\"1\" class=\"dataframe\">\n",
       "  <thead>\n",
       "    <tr style=\"text-align: right;\">\n",
       "      <th></th>\n",
       "      <th>Ladder</th>\n",
       "      <th>SD of Ladder</th>\n",
       "      <th>Positive affect</th>\n",
       "      <th>Negative affect</th>\n",
       "      <th>Social support</th>\n",
       "      <th>Freedom</th>\n",
       "      <th>Corruption</th>\n",
       "      <th>Generosity</th>\n",
       "      <th>Log of GDP\\nper capita</th>\n",
       "      <th>Healthy life\\nexpectancy</th>\n",
       "    </tr>\n",
       "  </thead>\n",
       "  <tbody>\n",
       "    <tr>\n",
       "      <td>Ladder</td>\n",
       "      <td>2041.000000</td>\n",
       "      <td>1100.838710</td>\n",
       "      <td>995.928571</td>\n",
       "      <td>1061.207792</td>\n",
       "      <td>1657.428571</td>\n",
       "      <td>1108.090909</td>\n",
       "      <td>370.874150</td>\n",
       "      <td>1008.948052</td>\n",
       "      <td>1615.000000</td>\n",
       "      <td>1613.369128</td>\n",
       "    </tr>\n",
       "    <tr>\n",
       "      <td>SD of Ladder</td>\n",
       "      <td>1100.838710</td>\n",
       "      <td>2041.000000</td>\n",
       "      <td>173.694805</td>\n",
       "      <td>1259.805195</td>\n",
       "      <td>1219.519481</td>\n",
       "      <td>512.363636</td>\n",
       "      <td>506.897959</td>\n",
       "      <td>797.779221</td>\n",
       "      <td>1254.526490</td>\n",
       "      <td>1208.026846</td>\n",
       "    </tr>\n",
       "    <tr>\n",
       "      <td>Positive affect</td>\n",
       "      <td>995.928571</td>\n",
       "      <td>173.694805</td>\n",
       "      <td>2015.000000</td>\n",
       "      <td>785.240260</td>\n",
       "      <td>778.331169</td>\n",
       "      <td>1373.766234</td>\n",
       "      <td>405.292517</td>\n",
       "      <td>715.077922</td>\n",
       "      <td>586.120000</td>\n",
       "      <td>647.908897</td>\n",
       "    </tr>\n",
       "    <tr>\n",
       "      <td>Negative affect</td>\n",
       "      <td>1061.207792</td>\n",
       "      <td>1259.805195</td>\n",
       "      <td>785.240260</td>\n",
       "      <td>2015.000000</td>\n",
       "      <td>1253.103896</td>\n",
       "      <td>866.935065</td>\n",
       "      <td>309.231293</td>\n",
       "      <td>681.525974</td>\n",
       "      <td>1050.926667</td>\n",
       "      <td>944.803192</td>\n",
       "    </tr>\n",
       "    <tr>\n",
       "      <td>Social support</td>\n",
       "      <td>1657.428571</td>\n",
       "      <td>1219.519481</td>\n",
       "      <td>778.331169</td>\n",
       "      <td>1253.103896</td>\n",
       "      <td>2015.000000</td>\n",
       "      <td>904.538961</td>\n",
       "      <td>230.741497</td>\n",
       "      <td>891.500000</td>\n",
       "      <td>1509.293333</td>\n",
       "      <td>1471.919100</td>\n",
       "    </tr>\n",
       "    <tr>\n",
       "      <td>Freedom</td>\n",
       "      <td>1108.090909</td>\n",
       "      <td>512.363636</td>\n",
       "      <td>1373.766234</td>\n",
       "      <td>866.935065</td>\n",
       "      <td>904.538961</td>\n",
       "      <td>2015.000000</td>\n",
       "      <td>736.268707</td>\n",
       "      <td>987.331169</td>\n",
       "      <td>800.926667</td>\n",
       "      <td>821.386087</td>\n",
       "    </tr>\n",
       "    <tr>\n",
       "      <td>Corruption</td>\n",
       "      <td>370.874150</td>\n",
       "      <td>506.897959</td>\n",
       "      <td>405.292517</td>\n",
       "      <td>309.231293</td>\n",
       "      <td>230.741497</td>\n",
       "      <td>736.268707</td>\n",
       "      <td>1837.666667</td>\n",
       "      <td>511.333333</td>\n",
       "      <td>368.289773</td>\n",
       "      <td>233.044951</td>\n",
       "    </tr>\n",
       "    <tr>\n",
       "      <td>Generosity</td>\n",
       "      <td>1008.948052</td>\n",
       "      <td>797.779221</td>\n",
       "      <td>715.077922</td>\n",
       "      <td>681.525974</td>\n",
       "      <td>891.500000</td>\n",
       "      <td>987.331169</td>\n",
       "      <td>511.333333</td>\n",
       "      <td>2015.000000</td>\n",
       "      <td>949.020000</td>\n",
       "      <td>836.343869</td>\n",
       "    </tr>\n",
       "    <tr>\n",
       "      <td>Log of GDP\\nper capita</td>\n",
       "      <td>1615.000000</td>\n",
       "      <td>1254.526490</td>\n",
       "      <td>586.120000</td>\n",
       "      <td>1050.926667</td>\n",
       "      <td>1509.293333</td>\n",
       "      <td>800.926667</td>\n",
       "      <td>368.289773</td>\n",
       "      <td>949.020000</td>\n",
       "      <td>1938.000000</td>\n",
       "      <td>1614.025970</td>\n",
       "    </tr>\n",
       "    <tr>\n",
       "      <td>Healthy life\\nexpectancy</td>\n",
       "      <td>1613.369128</td>\n",
       "      <td>1208.026846</td>\n",
       "      <td>647.908897</td>\n",
       "      <td>944.803192</td>\n",
       "      <td>1471.919100</td>\n",
       "      <td>821.386087</td>\n",
       "      <td>233.044951</td>\n",
       "      <td>836.343869</td>\n",
       "      <td>1614.025970</td>\n",
       "      <td>1887.500000</td>\n",
       "    </tr>\n",
       "  </tbody>\n",
       "</table>\n",
       "</div>"
      ],
      "text/plain": [
       "                               Ladder  SD of Ladder  Positive affect  \\\n",
       "Ladder                    2041.000000   1100.838710       995.928571   \n",
       "SD of Ladder              1100.838710   2041.000000       173.694805   \n",
       "Positive affect            995.928571    173.694805      2015.000000   \n",
       "Negative affect           1061.207792   1259.805195       785.240260   \n",
       "Social support            1657.428571   1219.519481       778.331169   \n",
       "Freedom                   1108.090909    512.363636      1373.766234   \n",
       "Corruption                 370.874150    506.897959       405.292517   \n",
       "Generosity                1008.948052    797.779221       715.077922   \n",
       "Log of GDP\\nper capita    1615.000000   1254.526490       586.120000   \n",
       "Healthy life\\nexpectancy  1613.369128   1208.026846       647.908897   \n",
       "\n",
       "                          Negative affect  Social support      Freedom  \\\n",
       "Ladder                        1061.207792     1657.428571  1108.090909   \n",
       "SD of Ladder                  1259.805195     1219.519481   512.363636   \n",
       "Positive affect                785.240260      778.331169  1373.766234   \n",
       "Negative affect               2015.000000     1253.103896   866.935065   \n",
       "Social support                1253.103896     2015.000000   904.538961   \n",
       "Freedom                        866.935065      904.538961  2015.000000   \n",
       "Corruption                     309.231293      230.741497   736.268707   \n",
       "Generosity                     681.525974      891.500000   987.331169   \n",
       "Log of GDP\\nper capita        1050.926667     1509.293333   800.926667   \n",
       "Healthy life\\nexpectancy       944.803192     1471.919100   821.386087   \n",
       "\n",
       "                           Corruption   Generosity  Log of GDP\\nper capita  \\\n",
       "Ladder                     370.874150  1008.948052             1615.000000   \n",
       "SD of Ladder               506.897959   797.779221             1254.526490   \n",
       "Positive affect            405.292517   715.077922              586.120000   \n",
       "Negative affect            309.231293   681.525974             1050.926667   \n",
       "Social support             230.741497   891.500000             1509.293333   \n",
       "Freedom                    736.268707   987.331169              800.926667   \n",
       "Corruption                1837.666667   511.333333              368.289773   \n",
       "Generosity                 511.333333  2015.000000              949.020000   \n",
       "Log of GDP\\nper capita     368.289773   949.020000             1938.000000   \n",
       "Healthy life\\nexpectancy   233.044951   836.343869             1614.025970   \n",
       "\n",
       "                          Healthy life\\nexpectancy  \n",
       "Ladder                                 1613.369128  \n",
       "SD of Ladder                           1208.026846  \n",
       "Positive affect                         647.908897  \n",
       "Negative affect                         944.803192  \n",
       "Social support                         1471.919100  \n",
       "Freedom                                 821.386087  \n",
       "Corruption                              233.044951  \n",
       "Generosity                              836.343869  \n",
       "Log of GDP\\nper capita                 1614.025970  \n",
       "Healthy life\\nexpectancy               1887.500000  "
      ]
     },
     "execution_count": 102,
     "metadata": {},
     "output_type": "execute_result"
    }
   ],
   "source": [
    "#Матрица ковариаций полная\n",
    "data_new.cov()"
   ]
  },
  {
   "cell_type": "markdown",
   "metadata": {
    "colab_type": "text",
    "id": "AEV-w8iDrzwl"
   },
   "source": [
    "Сколько в данной таблице отсутствующих значений? Написать ответ. Если есть отсутствующие значения в выборке country, убрать (drop)."
   ]
  },
  {
   "cell_type": "code",
   "execution_count": 129,
   "metadata": {},
   "outputs": [
    {
     "data": {
      "text/plain": [
       "Country (region)            0\n",
       "Ladder                      0\n",
       "SD of Ladder                0\n",
       "Positive affect             1\n",
       "Negative affect             1\n",
       "Social support              1\n",
       "Freedom                     1\n",
       "Corruption                  8\n",
       "Generosity                  1\n",
       "Log of GDP\\nper capita      4\n",
       "Healthy life\\nexpectancy    6\n",
       "dtype: int64"
      ]
     },
     "execution_count": 129,
     "metadata": {},
     "output_type": "execute_result"
    }
   ],
   "source": [
    "#В столбце country нет отсутствующих значений\n",
    "z=data_new.isnull().sum(axis = 0)\n",
    "z"
   ]
  },
  {
   "cell_type": "code",
   "execution_count": 136,
   "metadata": {},
   "outputs": [
    {
     "data": {
      "text/plain": [
       "23"
      ]
     },
     "execution_count": 136,
     "metadata": {},
     "output_type": "execute_result"
    }
   ],
   "source": [
    "#Всего в таблице 23 отсутствующих значения\n",
    "z.sum()"
   ]
  },
  {
   "cell_type": "markdown",
   "metadata": {
    "colab_type": "text",
    "id": "Sa3-2X8RputT"
   },
   "source": [
    "Сколько стран в выборке? Написать ответ. "
   ]
  },
  {
   "cell_type": "code",
   "execution_count": 157,
   "metadata": {
    "scrolled": false
   },
   "outputs": [
    {
     "data": {
      "text/plain": [
       "array(['Finland', 'Denmark', 'Norway', 'Iceland', 'Netherlands',\n",
       "       'Switzerland', 'Sweden', 'New Zealand', 'Canada', 'Austria',\n",
       "       'Australia', 'Costa Rica', 'Israel', 'Luxembourg',\n",
       "       'United Kingdom', 'Ireland', 'Germany', 'Belgium', 'United States',\n",
       "       'Czech Republic', 'United Arab Emirates', 'Malta', 'Mexico',\n",
       "       'France', 'Taiwan', 'Chile', 'Guatemala', 'Saudi Arabia', 'Qatar',\n",
       "       'Spain', 'Panama', 'Brazil', 'Uruguay', 'Singapore', 'El Salvador',\n",
       "       'Italy', 'Bahrain', 'Slovakia', 'Trinidad and Tobago', 'Poland',\n",
       "       'Uzbekistan', 'Lithuania', 'Colombia', 'Slovenia', 'Nicaragua',\n",
       "       'Kosovo', 'Argentina', 'Romania', 'Cyprus', 'Ecuador', 'Kuwait',\n",
       "       'Thailand', 'Latvia', 'South Korea', 'Estonia', 'Jamaica',\n",
       "       'Mauritius', 'Japan', 'Honduras', 'Kazakhstan', 'Bolivia',\n",
       "       'Hungary', 'Paraguay', 'Northern Cyprus', 'Peru', 'Portugal',\n",
       "       'Pakistan', 'Russia', 'Philippines', 'Serbia', 'Moldova', 'Libya',\n",
       "       'Montenegro', 'Tajikistan', 'Croatia', 'Hong Kong',\n",
       "       'Dominican Republic', 'Bosnia and Herzegovina ', 'Turkey',\n",
       "       'Malaysia', 'Belarus', 'Greece', 'Mongolia', 'Macedonia',\n",
       "       'Nigeria', 'Kyrgyzstan', 'Turkmenistan', 'Algeria', 'Morocco',\n",
       "       'Azerbaijan', 'Lebanon', 'Indonesia', 'China', 'Vietnam', 'Bhutan',\n",
       "       'Cameroon', 'Bulgaria', 'Ghana', 'Ivory Coast', 'Nepal', 'Jordan',\n",
       "       'Benin', 'Congo (Brazzaville)', 'Gabon', 'Laos', 'South Africa',\n",
       "       'Albania', 'Venezuela', 'Cambodia', 'Palestinian Territories',\n",
       "       'Senegal', 'Somalia', 'Namibia', 'Niger', 'Burkina Faso',\n",
       "       'Armenia', 'Iran', 'Guinea', 'Georgia', 'Gambia', 'Kenya',\n",
       "       'Mauritania', 'Mozambique', 'Tunisia', 'Bangladesh', 'Iraq',\n",
       "       'Congo (Kinshasa)', 'Mali', 'Sierra Leone', 'Sri Lanka', 'Myanmar',\n",
       "       'Chad', 'Ukraine', 'Ethiopia', 'Swaziland', 'Uganda', 'Egypt',\n",
       "       'Zambia', 'Togo', 'India', 'Liberia', 'Comoros', 'Madagascar',\n",
       "       'Lesotho', 'Burundi', 'Zimbabwe', 'Haiti', 'Botswana', 'Syria',\n",
       "       'Malawi', 'Yemen', 'Rwanda', 'Tanzania', 'Afghanistan',\n",
       "       'Central African Republic', 'South Sudan'], dtype=object)"
      ]
     },
     "execution_count": 157,
     "metadata": {},
     "output_type": "execute_result"
    }
   ],
   "source": [
    "country.unique()"
   ]
  },
  {
   "cell_type": "code",
   "execution_count": 158,
   "metadata": {},
   "outputs": [
    {
     "data": {
      "text/plain": [
       "156"
      ]
     },
     "execution_count": 158,
     "metadata": {},
     "output_type": "execute_result"
    }
   ],
   "source": [
    "#156 стран\n",
    "len(country.unique())"
   ]
  },
  {
   "cell_type": "markdown",
   "metadata": {
    "colab_type": "text",
    "id": "Xo3Q738TsMBV"
   },
   "source": [
    "Построить матрицу корреляций для таблицы. Какие можно сделать выводы?"
   ]
  },
  {
   "cell_type": "code",
   "execution_count": 164,
   "metadata": {
    "scrolled": true
   },
   "outputs": [
    {
     "data": {
      "text/html": [
       "<style  type=\"text/css\" >\n",
       "    #T_772db2ae_6088_11ea_81a1_b42e990d70f3row0_col0 {\n",
       "            background-color:  #b40426;\n",
       "            color:  #f1f1f1;\n",
       "        }    #T_772db2ae_6088_11ea_81a1_b42e990d70f3row0_col1 {\n",
       "            background-color:  #dcdddd;\n",
       "            color:  #000000;\n",
       "        }    #T_772db2ae_6088_11ea_81a1_b42e990d70f3row0_col2 {\n",
       "            background-color:  #cdd9ec;\n",
       "            color:  #000000;\n",
       "        }    #T_772db2ae_6088_11ea_81a1_b42e990d70f3row0_col3 {\n",
       "            background-color:  #cbd8ee;\n",
       "            color:  #000000;\n",
       "        }    #T_772db2ae_6088_11ea_81a1_b42e990d70f3row0_col4 {\n",
       "            background-color:  #ee8669;\n",
       "            color:  #000000;\n",
       "        }    #T_772db2ae_6088_11ea_81a1_b42e990d70f3row0_col5 {\n",
       "            background-color:  #bed2f6;\n",
       "            color:  #000000;\n",
       "        }    #T_772db2ae_6088_11ea_81a1_b42e990d70f3row0_col6 {\n",
       "            background-color:  #536edd;\n",
       "            color:  #000000;\n",
       "        }    #T_772db2ae_6088_11ea_81a1_b42e990d70f3row0_col7 {\n",
       "            background-color:  #a3c2fe;\n",
       "            color:  #000000;\n",
       "        }    #T_772db2ae_6088_11ea_81a1_b42e990d70f3row0_col8 {\n",
       "            background-color:  #f29274;\n",
       "            color:  #000000;\n",
       "        }    #T_772db2ae_6088_11ea_81a1_b42e990d70f3row0_col9 {\n",
       "            background-color:  #ef886b;\n",
       "            color:  #000000;\n",
       "        }    #T_772db2ae_6088_11ea_81a1_b42e990d70f3row1_col0 {\n",
       "            background-color:  #cad8ef;\n",
       "            color:  #000000;\n",
       "        }    #T_772db2ae_6088_11ea_81a1_b42e990d70f3row1_col1 {\n",
       "            background-color:  #b40426;\n",
       "            color:  #f1f1f1;\n",
       "        }    #T_772db2ae_6088_11ea_81a1_b42e990d70f3row1_col2 {\n",
       "            background-color:  #3b4cc0;\n",
       "            color:  #f1f1f1;\n",
       "        }    #T_772db2ae_6088_11ea_81a1_b42e990d70f3row1_col3 {\n",
       "            background-color:  #e9d5cb;\n",
       "            color:  #000000;\n",
       "        }    #T_772db2ae_6088_11ea_81a1_b42e990d70f3row1_col4 {\n",
       "            background-color:  #e8d6cc;\n",
       "            color:  #000000;\n",
       "        }    #T_772db2ae_6088_11ea_81a1_b42e990d70f3row1_col5 {\n",
       "            background-color:  #3b4cc0;\n",
       "            color:  #f1f1f1;\n",
       "        }    #T_772db2ae_6088_11ea_81a1_b42e990d70f3row1_col6 {\n",
       "            background-color:  #6c8ff1;\n",
       "            color:  #000000;\n",
       "        }    #T_772db2ae_6088_11ea_81a1_b42e990d70f3row1_col7 {\n",
       "            background-color:  #7093f3;\n",
       "            color:  #000000;\n",
       "        }    #T_772db2ae_6088_11ea_81a1_b42e990d70f3row1_col8 {\n",
       "            background-color:  #e6d7cf;\n",
       "            color:  #000000;\n",
       "        }    #T_772db2ae_6088_11ea_81a1_b42e990d70f3row1_col9 {\n",
       "            background-color:  #ead4c8;\n",
       "            color:  #000000;\n",
       "        }    #T_772db2ae_6088_11ea_81a1_b42e990d70f3row2_col0 {\n",
       "            background-color:  #b7cff9;\n",
       "            color:  #000000;\n",
       "        }    #T_772db2ae_6088_11ea_81a1_b42e990d70f3row2_col1 {\n",
       "            background-color:  #3b4cc0;\n",
       "            color:  #f1f1f1;\n",
       "        }    #T_772db2ae_6088_11ea_81a1_b42e990d70f3row2_col2 {\n",
       "            background-color:  #b40426;\n",
       "            color:  #f1f1f1;\n",
       "        }    #T_772db2ae_6088_11ea_81a1_b42e990d70f3row2_col3 {\n",
       "            background-color:  #96b7ff;\n",
       "            color:  #000000;\n",
       "        }    #T_772db2ae_6088_11ea_81a1_b42e990d70f3row2_col4 {\n",
       "            background-color:  #9fbfff;\n",
       "            color:  #000000;\n",
       "        }    #T_772db2ae_6088_11ea_81a1_b42e990d70f3row2_col5 {\n",
       "            background-color:  #eed0c0;\n",
       "            color:  #000000;\n",
       "        }    #T_772db2ae_6088_11ea_81a1_b42e990d70f3row2_col6 {\n",
       "            background-color:  #5a78e4;\n",
       "            color:  #000000;\n",
       "        }    #T_772db2ae_6088_11ea_81a1_b42e990d70f3row2_col7 {\n",
       "            background-color:  #5f7fe8;\n",
       "            color:  #000000;\n",
       "        }    #T_772db2ae_6088_11ea_81a1_b42e990d70f3row2_col8 {\n",
       "            background-color:  #6384eb;\n",
       "            color:  #000000;\n",
       "        }    #T_772db2ae_6088_11ea_81a1_b42e990d70f3row2_col9 {\n",
       "            background-color:  #89acfd;\n",
       "            color:  #000000;\n",
       "        }    #T_772db2ae_6088_11ea_81a1_b42e990d70f3row3_col0 {\n",
       "            background-color:  #c4d5f3;\n",
       "            color:  #000000;\n",
       "        }    #T_772db2ae_6088_11ea_81a1_b42e990d70f3row3_col1 {\n",
       "            background-color:  #efcebd;\n",
       "            color:  #000000;\n",
       "        }    #T_772db2ae_6088_11ea_81a1_b42e990d70f3row3_col2 {\n",
       "            background-color:  #aac7fd;\n",
       "            color:  #000000;\n",
       "        }    #T_772db2ae_6088_11ea_81a1_b42e990d70f3row3_col3 {\n",
       "            background-color:  #b40426;\n",
       "            color:  #f1f1f1;\n",
       "        }    #T_772db2ae_6088_11ea_81a1_b42e990d70f3row3_col4 {\n",
       "            background-color:  #edd1c2;\n",
       "            color:  #000000;\n",
       "        }    #T_772db2ae_6088_11ea_81a1_b42e990d70f3row3_col5 {\n",
       "            background-color:  #89acfd;\n",
       "            color:  #000000;\n",
       "        }    #T_772db2ae_6088_11ea_81a1_b42e990d70f3row3_col6 {\n",
       "            background-color:  #485fd1;\n",
       "            color:  #f1f1f1;\n",
       "        }    #T_772db2ae_6088_11ea_81a1_b42e990d70f3row3_col7 {\n",
       "            background-color:  #5977e3;\n",
       "            color:  #000000;\n",
       "        }    #T_772db2ae_6088_11ea_81a1_b42e990d70f3row3_col8 {\n",
       "            background-color:  #c9d7f0;\n",
       "            color:  #000000;\n",
       "        }    #T_772db2ae_6088_11ea_81a1_b42e990d70f3row3_col9 {\n",
       "            background-color:  #c5d6f2;\n",
       "            color:  #000000;\n",
       "        }    #T_772db2ae_6088_11ea_81a1_b42e990d70f3row4_col0 {\n",
       "            background-color:  #f18f71;\n",
       "            color:  #000000;\n",
       "        }    #T_772db2ae_6088_11ea_81a1_b42e990d70f3row4_col1 {\n",
       "            background-color:  #ebd3c6;\n",
       "            color:  #000000;\n",
       "        }    #T_772db2ae_6088_11ea_81a1_b42e990d70f3row4_col2 {\n",
       "            background-color:  #a9c6fd;\n",
       "            color:  #000000;\n",
       "        }    #T_772db2ae_6088_11ea_81a1_b42e990d70f3row4_col3 {\n",
       "            background-color:  #e9d5cb;\n",
       "            color:  #000000;\n",
       "        }    #T_772db2ae_6088_11ea_81a1_b42e990d70f3row4_col4 {\n",
       "            background-color:  #b40426;\n",
       "            color:  #f1f1f1;\n",
       "        }    #T_772db2ae_6088_11ea_81a1_b42e990d70f3row4_col5 {\n",
       "            background-color:  #92b4fe;\n",
       "            color:  #000000;\n",
       "        }    #T_772db2ae_6088_11ea_81a1_b42e990d70f3row4_col6 {\n",
       "            background-color:  #3b4cc0;\n",
       "            color:  #f1f1f1;\n",
       "        }    #T_772db2ae_6088_11ea_81a1_b42e990d70f3row4_col7 {\n",
       "            background-color:  #89acfd;\n",
       "            color:  #000000;\n",
       "        }    #T_772db2ae_6088_11ea_81a1_b42e990d70f3row4_col8 {\n",
       "            background-color:  #f7a688;\n",
       "            color:  #000000;\n",
       "        }    #T_772db2ae_6088_11ea_81a1_b42e990d70f3row4_col9 {\n",
       "            background-color:  #f7aa8c;\n",
       "            color:  #000000;\n",
       "        }    #T_772db2ae_6088_11ea_81a1_b42e990d70f3row5_col0 {\n",
       "            background-color:  #ccd9ed;\n",
       "            color:  #000000;\n",
       "        }    #T_772db2ae_6088_11ea_81a1_b42e990d70f3row5_col1 {\n",
       "            background-color:  #7597f6;\n",
       "            color:  #000000;\n",
       "        }    #T_772db2ae_6088_11ea_81a1_b42e990d70f3row5_col2 {\n",
       "            background-color:  #f6bda2;\n",
       "            color:  #000000;\n",
       "        }    #T_772db2ae_6088_11ea_81a1_b42e990d70f3row5_col3 {\n",
       "            background-color:  #a6c4fe;\n",
       "            color:  #000000;\n",
       "        }    #T_772db2ae_6088_11ea_81a1_b42e990d70f3row5_col4 {\n",
       "            background-color:  #b7cff9;\n",
       "            color:  #000000;\n",
       "        }    #T_772db2ae_6088_11ea_81a1_b42e990d70f3row5_col5 {\n",
       "            background-color:  #b40426;\n",
       "            color:  #f1f1f1;\n",
       "        }    #T_772db2ae_6088_11ea_81a1_b42e990d70f3row5_col6 {\n",
       "            background-color:  #9ebeff;\n",
       "            color:  #000000;\n",
       "        }    #T_772db2ae_6088_11ea_81a1_b42e990d70f3row5_col7 {\n",
       "            background-color:  #a1c0ff;\n",
       "            color:  #000000;\n",
       "        }    #T_772db2ae_6088_11ea_81a1_b42e990d70f3row5_col8 {\n",
       "            background-color:  #92b4fe;\n",
       "            color:  #000000;\n",
       "        }    #T_772db2ae_6088_11ea_81a1_b42e990d70f3row5_col9 {\n",
       "            background-color:  #aac7fd;\n",
       "            color:  #000000;\n",
       "        }    #T_772db2ae_6088_11ea_81a1_b42e990d70f3row6_col0 {\n",
       "            background-color:  #3b4cc0;\n",
       "            color:  #f1f1f1;\n",
       "        }    #T_772db2ae_6088_11ea_81a1_b42e990d70f3row6_col1 {\n",
       "            background-color:  #779af7;\n",
       "            color:  #000000;\n",
       "        }    #T_772db2ae_6088_11ea_81a1_b42e990d70f3row6_col2 {\n",
       "            background-color:  #6485ec;\n",
       "            color:  #000000;\n",
       "        }    #T_772db2ae_6088_11ea_81a1_b42e990d70f3row6_col3 {\n",
       "            background-color:  #3b4cc0;\n",
       "            color:  #f1f1f1;\n",
       "        }    #T_772db2ae_6088_11ea_81a1_b42e990d70f3row6_col4 {\n",
       "            background-color:  #3b4cc0;\n",
       "            color:  #f1f1f1;\n",
       "        }    #T_772db2ae_6088_11ea_81a1_b42e990d70f3row6_col5 {\n",
       "            background-color:  #7295f4;\n",
       "            color:  #000000;\n",
       "        }    #T_772db2ae_6088_11ea_81a1_b42e990d70f3row6_col6 {\n",
       "            background-color:  #b40426;\n",
       "            color:  #f1f1f1;\n",
       "        }    #T_772db2ae_6088_11ea_81a1_b42e990d70f3row6_col7 {\n",
       "            background-color:  #3b4cc0;\n",
       "            color:  #f1f1f1;\n",
       "        }    #T_772db2ae_6088_11ea_81a1_b42e990d70f3row6_col8 {\n",
       "            background-color:  #3b4cc0;\n",
       "            color:  #f1f1f1;\n",
       "        }    #T_772db2ae_6088_11ea_81a1_b42e990d70f3row6_col9 {\n",
       "            background-color:  #3b4cc0;\n",
       "            color:  #f1f1f1;\n",
       "        }    #T_772db2ae_6088_11ea_81a1_b42e990d70f3row7_col0 {\n",
       "            background-color:  #bad0f8;\n",
       "            color:  #000000;\n",
       "        }    #T_772db2ae_6088_11ea_81a1_b42e990d70f3row7_col1 {\n",
       "            background-color:  #aac7fd;\n",
       "            color:  #000000;\n",
       "        }    #T_772db2ae_6088_11ea_81a1_b42e990d70f3row7_col2 {\n",
       "            background-color:  #9dbdff;\n",
       "            color:  #000000;\n",
       "        }    #T_772db2ae_6088_11ea_81a1_b42e990d70f3row7_col3 {\n",
       "            background-color:  #80a3fa;\n",
       "            color:  #000000;\n",
       "        }    #T_772db2ae_6088_11ea_81a1_b42e990d70f3row7_col4 {\n",
       "            background-color:  #b6cefa;\n",
       "            color:  #000000;\n",
       "        }    #T_772db2ae_6088_11ea_81a1_b42e990d70f3row7_col5 {\n",
       "            background-color:  #a5c3fe;\n",
       "            color:  #000000;\n",
       "        }    #T_772db2ae_6088_11ea_81a1_b42e990d70f3row7_col6 {\n",
       "            background-color:  #6f92f3;\n",
       "            color:  #000000;\n",
       "        }    #T_772db2ae_6088_11ea_81a1_b42e990d70f3row7_col7 {\n",
       "            background-color:  #b40426;\n",
       "            color:  #f1f1f1;\n",
       "        }    #T_772db2ae_6088_11ea_81a1_b42e990d70f3row7_col8 {\n",
       "            background-color:  #afcafc;\n",
       "            color:  #000000;\n",
       "        }    #T_772db2ae_6088_11ea_81a1_b42e990d70f3row7_col9 {\n",
       "            background-color:  #b1cbfc;\n",
       "            color:  #000000;\n",
       "        }    #T_772db2ae_6088_11ea_81a1_b42e990d70f3row8_col0 {\n",
       "            background-color:  #f29072;\n",
       "            color:  #000000;\n",
       "        }    #T_772db2ae_6088_11ea_81a1_b42e990d70f3row8_col1 {\n",
       "            background-color:  #f1ccb8;\n",
       "            color:  #000000;\n",
       "        }    #T_772db2ae_6088_11ea_81a1_b42e990d70f3row8_col2 {\n",
       "            background-color:  #89acfd;\n",
       "            color:  #000000;\n",
       "        }    #T_772db2ae_6088_11ea_81a1_b42e990d70f3row8_col3 {\n",
       "            background-color:  #d1dae9;\n",
       "            color:  #000000;\n",
       "        }    #T_772db2ae_6088_11ea_81a1_b42e990d70f3row8_col4 {\n",
       "            background-color:  #f59c7d;\n",
       "            color:  #000000;\n",
       "        }    #T_772db2ae_6088_11ea_81a1_b42e990d70f3row8_col5 {\n",
       "            background-color:  #7ea1fa;\n",
       "            color:  #000000;\n",
       "        }    #T_772db2ae_6088_11ea_81a1_b42e990d70f3row8_col6 {\n",
       "            background-color:  #5673e0;\n",
       "            color:  #000000;\n",
       "        }    #T_772db2ae_6088_11ea_81a1_b42e990d70f3row8_col7 {\n",
       "            background-color:  #9bbcff;\n",
       "            color:  #000000;\n",
       "        }    #T_772db2ae_6088_11ea_81a1_b42e990d70f3row8_col8 {\n",
       "            background-color:  #b40426;\n",
       "            color:  #f1f1f1;\n",
       "        }    #T_772db2ae_6088_11ea_81a1_b42e990d70f3row8_col9 {\n",
       "            background-color:  #e9785d;\n",
       "            color:  #000000;\n",
       "        }    #T_772db2ae_6088_11ea_81a1_b42e990d70f3row9_col0 {\n",
       "            background-color:  #f18f71;\n",
       "            color:  #000000;\n",
       "        }    #T_772db2ae_6088_11ea_81a1_b42e990d70f3row9_col1 {\n",
       "            background-color:  #eed0c0;\n",
       "            color:  #000000;\n",
       "        }    #T_772db2ae_6088_11ea_81a1_b42e990d70f3row9_col2 {\n",
       "            background-color:  #94b6ff;\n",
       "            color:  #000000;\n",
       "        }    #T_772db2ae_6088_11ea_81a1_b42e990d70f3row9_col3 {\n",
       "            background-color:  #bed2f6;\n",
       "            color:  #000000;\n",
       "        }    #T_772db2ae_6088_11ea_81a1_b42e990d70f3row9_col4 {\n",
       "            background-color:  #f7aa8c;\n",
       "            color:  #000000;\n",
       "        }    #T_772db2ae_6088_11ea_81a1_b42e990d70f3row9_col5 {\n",
       "            background-color:  #82a6fb;\n",
       "            color:  #000000;\n",
       "        }    #T_772db2ae_6088_11ea_81a1_b42e990d70f3row9_col6 {\n",
       "            background-color:  #3c4ec2;\n",
       "            color:  #f1f1f1;\n",
       "        }    #T_772db2ae_6088_11ea_81a1_b42e990d70f3row9_col7 {\n",
       "            background-color:  #84a7fc;\n",
       "            color:  #000000;\n",
       "        }    #T_772db2ae_6088_11ea_81a1_b42e990d70f3row9_col8 {\n",
       "            background-color:  #ec7f63;\n",
       "            color:  #000000;\n",
       "        }    #T_772db2ae_6088_11ea_81a1_b42e990d70f3row9_col9 {\n",
       "            background-color:  #b40426;\n",
       "            color:  #f1f1f1;\n",
       "        }</style><table id=\"T_772db2ae_6088_11ea_81a1_b42e990d70f3\" ><thead>    <tr>        <th class=\"blank level0\" ></th>        <th class=\"col_heading level0 col0\" >Ladder</th>        <th class=\"col_heading level0 col1\" >SD of Ladder</th>        <th class=\"col_heading level0 col2\" >Positive affect</th>        <th class=\"col_heading level0 col3\" >Negative affect</th>        <th class=\"col_heading level0 col4\" >Social support</th>        <th class=\"col_heading level0 col5\" >Freedom</th>        <th class=\"col_heading level0 col6\" >Corruption</th>        <th class=\"col_heading level0 col7\" >Generosity</th>        <th class=\"col_heading level0 col8\" >Log of GDP\n",
       "per capita</th>        <th class=\"col_heading level0 col9\" >Healthy life\n",
       "expectancy</th>    </tr></thead><tbody>\n",
       "                <tr>\n",
       "                        <th id=\"T_772db2ae_6088_11ea_81a1_b42e990d70f3level0_row0\" class=\"row_heading level0 row0\" >Ladder</th>\n",
       "                        <td id=\"T_772db2ae_6088_11ea_81a1_b42e990d70f3row0_col0\" class=\"data row0 col0\" >1</td>\n",
       "                        <td id=\"T_772db2ae_6088_11ea_81a1_b42e990d70f3row0_col1\" class=\"data row0 col1\" >0.5</td>\n",
       "                        <td id=\"T_772db2ae_6088_11ea_81a1_b42e990d70f3row0_col2\" class=\"data row0 col2\" >0.5</td>\n",
       "                        <td id=\"T_772db2ae_6088_11ea_81a1_b42e990d70f3row0_col3\" class=\"data row0 col3\" >0.5</td>\n",
       "                        <td id=\"T_772db2ae_6088_11ea_81a1_b42e990d70f3row0_col4\" class=\"data row0 col4\" >0.8</td>\n",
       "                        <td id=\"T_772db2ae_6088_11ea_81a1_b42e990d70f3row0_col5\" class=\"data row0 col5\" >0.5</td>\n",
       "                        <td id=\"T_772db2ae_6088_11ea_81a1_b42e990d70f3row0_col6\" class=\"data row0 col6\" >0.2</td>\n",
       "                        <td id=\"T_772db2ae_6088_11ea_81a1_b42e990d70f3row0_col7\" class=\"data row0 col7\" >0.5</td>\n",
       "                        <td id=\"T_772db2ae_6088_11ea_81a1_b42e990d70f3row0_col8\" class=\"data row0 col8\" >0.8</td>\n",
       "                        <td id=\"T_772db2ae_6088_11ea_81a1_b42e990d70f3row0_col9\" class=\"data row0 col9\" >0.8</td>\n",
       "            </tr>\n",
       "            <tr>\n",
       "                        <th id=\"T_772db2ae_6088_11ea_81a1_b42e990d70f3level0_row1\" class=\"row_heading level0 row1\" >SD of Ladder</th>\n",
       "                        <td id=\"T_772db2ae_6088_11ea_81a1_b42e990d70f3row1_col0\" class=\"data row1 col0\" >0.5</td>\n",
       "                        <td id=\"T_772db2ae_6088_11ea_81a1_b42e990d70f3row1_col1\" class=\"data row1 col1\" >1</td>\n",
       "                        <td id=\"T_772db2ae_6088_11ea_81a1_b42e990d70f3row1_col2\" class=\"data row1 col2\" >0.09</td>\n",
       "                        <td id=\"T_772db2ae_6088_11ea_81a1_b42e990d70f3row1_col3\" class=\"data row1 col3\" >0.6</td>\n",
       "                        <td id=\"T_772db2ae_6088_11ea_81a1_b42e990d70f3row1_col4\" class=\"data row1 col4\" >0.6</td>\n",
       "                        <td id=\"T_772db2ae_6088_11ea_81a1_b42e990d70f3row1_col5\" class=\"data row1 col5\" >0.3</td>\n",
       "                        <td id=\"T_772db2ae_6088_11ea_81a1_b42e990d70f3row1_col6\" class=\"data row1 col6\" >0.3</td>\n",
       "                        <td id=\"T_772db2ae_6088_11ea_81a1_b42e990d70f3row1_col7\" class=\"data row1 col7\" >0.4</td>\n",
       "                        <td id=\"T_772db2ae_6088_11ea_81a1_b42e990d70f3row1_col8\" class=\"data row1 col8\" >0.6</td>\n",
       "                        <td id=\"T_772db2ae_6088_11ea_81a1_b42e990d70f3row1_col9\" class=\"data row1 col9\" >0.6</td>\n",
       "            </tr>\n",
       "            <tr>\n",
       "                        <th id=\"T_772db2ae_6088_11ea_81a1_b42e990d70f3level0_row2\" class=\"row_heading level0 row2\" >Positive affect</th>\n",
       "                        <td id=\"T_772db2ae_6088_11ea_81a1_b42e990d70f3row2_col0\" class=\"data row2 col0\" >0.5</td>\n",
       "                        <td id=\"T_772db2ae_6088_11ea_81a1_b42e990d70f3row2_col1\" class=\"data row2 col1\" >0.09</td>\n",
       "                        <td id=\"T_772db2ae_6088_11ea_81a1_b42e990d70f3row2_col2\" class=\"data row2 col2\" >1</td>\n",
       "                        <td id=\"T_772db2ae_6088_11ea_81a1_b42e990d70f3row2_col3\" class=\"data row2 col3\" >0.4</td>\n",
       "                        <td id=\"T_772db2ae_6088_11ea_81a1_b42e990d70f3row2_col4\" class=\"data row2 col4\" >0.4</td>\n",
       "                        <td id=\"T_772db2ae_6088_11ea_81a1_b42e990d70f3row2_col5\" class=\"data row2 col5\" >0.7</td>\n",
       "                        <td id=\"T_772db2ae_6088_11ea_81a1_b42e990d70f3row2_col6\" class=\"data row2 col6\" >0.2</td>\n",
       "                        <td id=\"T_772db2ae_6088_11ea_81a1_b42e990d70f3row2_col7\" class=\"data row2 col7\" >0.4</td>\n",
       "                        <td id=\"T_772db2ae_6088_11ea_81a1_b42e990d70f3row2_col8\" class=\"data row2 col8\" >0.3</td>\n",
       "                        <td id=\"T_772db2ae_6088_11ea_81a1_b42e990d70f3row2_col9\" class=\"data row2 col9\" >0.3</td>\n",
       "            </tr>\n",
       "            <tr>\n",
       "                        <th id=\"T_772db2ae_6088_11ea_81a1_b42e990d70f3level0_row3\" class=\"row_heading level0 row3\" >Negative affect</th>\n",
       "                        <td id=\"T_772db2ae_6088_11ea_81a1_b42e990d70f3row3_col0\" class=\"data row3 col0\" >0.5</td>\n",
       "                        <td id=\"T_772db2ae_6088_11ea_81a1_b42e990d70f3row3_col1\" class=\"data row3 col1\" >0.6</td>\n",
       "                        <td id=\"T_772db2ae_6088_11ea_81a1_b42e990d70f3row3_col2\" class=\"data row3 col2\" >0.4</td>\n",
       "                        <td id=\"T_772db2ae_6088_11ea_81a1_b42e990d70f3row3_col3\" class=\"data row3 col3\" >1</td>\n",
       "                        <td id=\"T_772db2ae_6088_11ea_81a1_b42e990d70f3row3_col4\" class=\"data row3 col4\" >0.6</td>\n",
       "                        <td id=\"T_772db2ae_6088_11ea_81a1_b42e990d70f3row3_col5\" class=\"data row3 col5\" >0.4</td>\n",
       "                        <td id=\"T_772db2ae_6088_11ea_81a1_b42e990d70f3row3_col6\" class=\"data row3 col6\" >0.2</td>\n",
       "                        <td id=\"T_772db2ae_6088_11ea_81a1_b42e990d70f3row3_col7\" class=\"data row3 col7\" >0.3</td>\n",
       "                        <td id=\"T_772db2ae_6088_11ea_81a1_b42e990d70f3row3_col8\" class=\"data row3 col8\" >0.5</td>\n",
       "                        <td id=\"T_772db2ae_6088_11ea_81a1_b42e990d70f3row3_col9\" class=\"data row3 col9\" >0.5</td>\n",
       "            </tr>\n",
       "            <tr>\n",
       "                        <th id=\"T_772db2ae_6088_11ea_81a1_b42e990d70f3level0_row4\" class=\"row_heading level0 row4\" >Social support</th>\n",
       "                        <td id=\"T_772db2ae_6088_11ea_81a1_b42e990d70f3row4_col0\" class=\"data row4 col0\" >0.8</td>\n",
       "                        <td id=\"T_772db2ae_6088_11ea_81a1_b42e990d70f3row4_col1\" class=\"data row4 col1\" >0.6</td>\n",
       "                        <td id=\"T_772db2ae_6088_11ea_81a1_b42e990d70f3row4_col2\" class=\"data row4 col2\" >0.4</td>\n",
       "                        <td id=\"T_772db2ae_6088_11ea_81a1_b42e990d70f3row4_col3\" class=\"data row4 col3\" >0.6</td>\n",
       "                        <td id=\"T_772db2ae_6088_11ea_81a1_b42e990d70f3row4_col4\" class=\"data row4 col4\" >1</td>\n",
       "                        <td id=\"T_772db2ae_6088_11ea_81a1_b42e990d70f3row4_col5\" class=\"data row4 col5\" >0.4</td>\n",
       "                        <td id=\"T_772db2ae_6088_11ea_81a1_b42e990d70f3row4_col6\" class=\"data row4 col6\" >0.1</td>\n",
       "                        <td id=\"T_772db2ae_6088_11ea_81a1_b42e990d70f3row4_col7\" class=\"data row4 col7\" >0.4</td>\n",
       "                        <td id=\"T_772db2ae_6088_11ea_81a1_b42e990d70f3row4_col8\" class=\"data row4 col8\" >0.8</td>\n",
       "                        <td id=\"T_772db2ae_6088_11ea_81a1_b42e990d70f3row4_col9\" class=\"data row4 col9\" >0.7</td>\n",
       "            </tr>\n",
       "            <tr>\n",
       "                        <th id=\"T_772db2ae_6088_11ea_81a1_b42e990d70f3level0_row5\" class=\"row_heading level0 row5\" >Freedom</th>\n",
       "                        <td id=\"T_772db2ae_6088_11ea_81a1_b42e990d70f3row5_col0\" class=\"data row5 col0\" >0.5</td>\n",
       "                        <td id=\"T_772db2ae_6088_11ea_81a1_b42e990d70f3row5_col1\" class=\"data row5 col1\" >0.3</td>\n",
       "                        <td id=\"T_772db2ae_6088_11ea_81a1_b42e990d70f3row5_col2\" class=\"data row5 col2\" >0.7</td>\n",
       "                        <td id=\"T_772db2ae_6088_11ea_81a1_b42e990d70f3row5_col3\" class=\"data row5 col3\" >0.4</td>\n",
       "                        <td id=\"T_772db2ae_6088_11ea_81a1_b42e990d70f3row5_col4\" class=\"data row5 col4\" >0.4</td>\n",
       "                        <td id=\"T_772db2ae_6088_11ea_81a1_b42e990d70f3row5_col5\" class=\"data row5 col5\" >1</td>\n",
       "                        <td id=\"T_772db2ae_6088_11ea_81a1_b42e990d70f3row5_col6\" class=\"data row5 col6\" >0.4</td>\n",
       "                        <td id=\"T_772db2ae_6088_11ea_81a1_b42e990d70f3row5_col7\" class=\"data row5 col7\" >0.5</td>\n",
       "                        <td id=\"T_772db2ae_6088_11ea_81a1_b42e990d70f3row5_col8\" class=\"data row5 col8\" >0.4</td>\n",
       "                        <td id=\"T_772db2ae_6088_11ea_81a1_b42e990d70f3row5_col9\" class=\"data row5 col9\" >0.4</td>\n",
       "            </tr>\n",
       "            <tr>\n",
       "                        <th id=\"T_772db2ae_6088_11ea_81a1_b42e990d70f3level0_row6\" class=\"row_heading level0 row6\" >Corruption</th>\n",
       "                        <td id=\"T_772db2ae_6088_11ea_81a1_b42e990d70f3row6_col0\" class=\"data row6 col0\" >0.2</td>\n",
       "                        <td id=\"T_772db2ae_6088_11ea_81a1_b42e990d70f3row6_col1\" class=\"data row6 col1\" >0.3</td>\n",
       "                        <td id=\"T_772db2ae_6088_11ea_81a1_b42e990d70f3row6_col2\" class=\"data row6 col2\" >0.2</td>\n",
       "                        <td id=\"T_772db2ae_6088_11ea_81a1_b42e990d70f3row6_col3\" class=\"data row6 col3\" >0.2</td>\n",
       "                        <td id=\"T_772db2ae_6088_11ea_81a1_b42e990d70f3row6_col4\" class=\"data row6 col4\" >0.1</td>\n",
       "                        <td id=\"T_772db2ae_6088_11ea_81a1_b42e990d70f3row6_col5\" class=\"data row6 col5\" >0.4</td>\n",
       "                        <td id=\"T_772db2ae_6088_11ea_81a1_b42e990d70f3row6_col6\" class=\"data row6 col6\" >1</td>\n",
       "                        <td id=\"T_772db2ae_6088_11ea_81a1_b42e990d70f3row6_col7\" class=\"data row6 col7\" >0.3</td>\n",
       "                        <td id=\"T_772db2ae_6088_11ea_81a1_b42e990d70f3row6_col8\" class=\"data row6 col8\" >0.2</td>\n",
       "                        <td id=\"T_772db2ae_6088_11ea_81a1_b42e990d70f3row6_col9\" class=\"data row6 col9\" >0.1</td>\n",
       "            </tr>\n",
       "            <tr>\n",
       "                        <th id=\"T_772db2ae_6088_11ea_81a1_b42e990d70f3level0_row7\" class=\"row_heading level0 row7\" >Generosity</th>\n",
       "                        <td id=\"T_772db2ae_6088_11ea_81a1_b42e990d70f3row7_col0\" class=\"data row7 col0\" >0.5</td>\n",
       "                        <td id=\"T_772db2ae_6088_11ea_81a1_b42e990d70f3row7_col1\" class=\"data row7 col1\" >0.4</td>\n",
       "                        <td id=\"T_772db2ae_6088_11ea_81a1_b42e990d70f3row7_col2\" class=\"data row7 col2\" >0.4</td>\n",
       "                        <td id=\"T_772db2ae_6088_11ea_81a1_b42e990d70f3row7_col3\" class=\"data row7 col3\" >0.3</td>\n",
       "                        <td id=\"T_772db2ae_6088_11ea_81a1_b42e990d70f3row7_col4\" class=\"data row7 col4\" >0.4</td>\n",
       "                        <td id=\"T_772db2ae_6088_11ea_81a1_b42e990d70f3row7_col5\" class=\"data row7 col5\" >0.5</td>\n",
       "                        <td id=\"T_772db2ae_6088_11ea_81a1_b42e990d70f3row7_col6\" class=\"data row7 col6\" >0.3</td>\n",
       "                        <td id=\"T_772db2ae_6088_11ea_81a1_b42e990d70f3row7_col7\" class=\"data row7 col7\" >1</td>\n",
       "                        <td id=\"T_772db2ae_6088_11ea_81a1_b42e990d70f3row7_col8\" class=\"data row7 col8\" >0.5</td>\n",
       "                        <td id=\"T_772db2ae_6088_11ea_81a1_b42e990d70f3row7_col9\" class=\"data row7 col9\" >0.4</td>\n",
       "            </tr>\n",
       "            <tr>\n",
       "                        <th id=\"T_772db2ae_6088_11ea_81a1_b42e990d70f3level0_row8\" class=\"row_heading level0 row8\" >Log of GDP\n",
       "per capita</th>\n",
       "                        <td id=\"T_772db2ae_6088_11ea_81a1_b42e990d70f3row8_col0\" class=\"data row8 col0\" >0.8</td>\n",
       "                        <td id=\"T_772db2ae_6088_11ea_81a1_b42e990d70f3row8_col1\" class=\"data row8 col1\" >0.6</td>\n",
       "                        <td id=\"T_772db2ae_6088_11ea_81a1_b42e990d70f3row8_col2\" class=\"data row8 col2\" >0.3</td>\n",
       "                        <td id=\"T_772db2ae_6088_11ea_81a1_b42e990d70f3row8_col3\" class=\"data row8 col3\" >0.5</td>\n",
       "                        <td id=\"T_772db2ae_6088_11ea_81a1_b42e990d70f3row8_col4\" class=\"data row8 col4\" >0.8</td>\n",
       "                        <td id=\"T_772db2ae_6088_11ea_81a1_b42e990d70f3row8_col5\" class=\"data row8 col5\" >0.4</td>\n",
       "                        <td id=\"T_772db2ae_6088_11ea_81a1_b42e990d70f3row8_col6\" class=\"data row8 col6\" >0.2</td>\n",
       "                        <td id=\"T_772db2ae_6088_11ea_81a1_b42e990d70f3row8_col7\" class=\"data row8 col7\" >0.5</td>\n",
       "                        <td id=\"T_772db2ae_6088_11ea_81a1_b42e990d70f3row8_col8\" class=\"data row8 col8\" >1</td>\n",
       "                        <td id=\"T_772db2ae_6088_11ea_81a1_b42e990d70f3row8_col9\" class=\"data row8 col9\" >0.8</td>\n",
       "            </tr>\n",
       "            <tr>\n",
       "                        <th id=\"T_772db2ae_6088_11ea_81a1_b42e990d70f3level0_row9\" class=\"row_heading level0 row9\" >Healthy life\n",
       "expectancy</th>\n",
       "                        <td id=\"T_772db2ae_6088_11ea_81a1_b42e990d70f3row9_col0\" class=\"data row9 col0\" >0.8</td>\n",
       "                        <td id=\"T_772db2ae_6088_11ea_81a1_b42e990d70f3row9_col1\" class=\"data row9 col1\" >0.6</td>\n",
       "                        <td id=\"T_772db2ae_6088_11ea_81a1_b42e990d70f3row9_col2\" class=\"data row9 col2\" >0.3</td>\n",
       "                        <td id=\"T_772db2ae_6088_11ea_81a1_b42e990d70f3row9_col3\" class=\"data row9 col3\" >0.5</td>\n",
       "                        <td id=\"T_772db2ae_6088_11ea_81a1_b42e990d70f3row9_col4\" class=\"data row9 col4\" >0.7</td>\n",
       "                        <td id=\"T_772db2ae_6088_11ea_81a1_b42e990d70f3row9_col5\" class=\"data row9 col5\" >0.4</td>\n",
       "                        <td id=\"T_772db2ae_6088_11ea_81a1_b42e990d70f3row9_col6\" class=\"data row9 col6\" >0.1</td>\n",
       "                        <td id=\"T_772db2ae_6088_11ea_81a1_b42e990d70f3row9_col7\" class=\"data row9 col7\" >0.4</td>\n",
       "                        <td id=\"T_772db2ae_6088_11ea_81a1_b42e990d70f3row9_col8\" class=\"data row9 col8\" >0.8</td>\n",
       "                        <td id=\"T_772db2ae_6088_11ea_81a1_b42e990d70f3row9_col9\" class=\"data row9 col9\" >1</td>\n",
       "            </tr>\n",
       "    </tbody></table>"
      ],
      "text/plain": [
       "<pandas.io.formats.style.Styler at 0x1d0e6f25108>"
      ]
     },
     "execution_count": 164,
     "metadata": {},
     "output_type": "execute_result"
    }
   ],
   "source": [
    "#Высокой отрицательной корреляции нет\n",
    "#Связь между LAdder и Log of GDP\\nper capita, Healthy life\\nexpectancy, Social support\n",
    "# Также высокаяя связь между Social support и Log of GDP\\nper capita, Healthy life\\nexpectancy\n",
    "#отсутствует корреляция между SD of Ladde и  Positive affect\n",
    "#У коррупции слабая корреляция со всеми метриками\n",
    "data_new.corr().style.background_gradient(cmap='coolwarm').set_precision(1)"
   ]
  },
  {
   "cell_type": "markdown",
   "metadata": {
    "colab_type": "text",
    "id": "bwPmjFqesXOC"
   },
   "source": [
    "# Дискретное распределение случайной величины"
   ]
  },
  {
   "cell_type": "markdown",
   "metadata": {
    "colab_type": "text",
    "id": "5xwVwFr_s11_"
   },
   "source": [
    "Напишите код для моделирования 10 подбрасываний игрального кубика. Начертите диаграму histogram. Какое это распределение?"
   ]
  },
  {
   "cell_type": "code",
   "execution_count": 200,
   "metadata": {
    "colab": {},
    "colab_type": "code",
    "id": "3EEu6ofKs0x7"
   },
   "outputs": [
    {
     "data": {
      "image/png": "[encoded data removed]",
      "text/plain": [
       "<Figure size 432x288 with 1 Axes>"
      ]
     },
     "metadata": {
      "needs_background": "light"
     },
     "output_type": "display_data"
    }
   ],
   "source": [
    "#Несколько раз нажимала run, и каждый раз менялся график и распределение\n",
    "number_of_randoms=10\n",
    "plt.hist(np.random.rand(number_of_randoms))\n",
    "plt.show()"
   ]
  },
  {
   "cell_type": "markdown",
   "metadata": {
    "colab_type": "text",
    "id": "irGnJ9bxtAor"
   },
   "source": [
    "Смоделируйте 1000 раз сумму по 100 подбрасываний. Начертите диаграму histogram. Почему график изменился? Почему можно применить центральную предельную теорему?"
   ]
  },
  {
   "cell_type": "code",
   "execution_count": 198,
   "metadata": {
    "colab": {},
    "colab_type": "code",
    "id": "v0It8sBStGcI"
   },
   "outputs": [
    {
     "data": {
      "image/png": "[encoded data removed]",
      "text/plain": [
       "<Figure size 432x288 with 1 Axes>"
      ]
     },
     "metadata": {
      "needs_background": "light"
     },
     "output_type": "display_data"
    }
   ],
   "source": [
    "#можно применить центральную предельную теорему,т.к. распределение стало нормальным\n",
    "number_of_sums = 1000\n",
    "X1 = np.zeros([number_of_sums])\n",
    "for i in range(number_of_sums):\n",
    "    # суммируем все элементы равномерных выборок\n",
    "    X1[i] = np.sum(np.random.rand(100))#/number_of_randoms\n",
    "plt.hist(X1, 50)\n",
    "plt.xlabel('X values')\n",
    "plt.ylabel('Number of elements in each X')\n",
    "plt.show()"
   ]
  },
  {
   "cell_type": "code",
   "execution_count": null,
   "metadata": {},
   "outputs": [],
   "source": []
  },
  {
   "cell_type": "code",
   "execution_count": null,
   "metadata": {},
   "outputs": [],
   "source": []
  },
  {
   "cell_type": "code",
   "execution_count": null,
   "metadata": {},
   "outputs": [],
   "source": []
  }
 ],
 "metadata": {
  "colab": {
   "include_colab_link": true,
   "name": "dz_2.ipynb",
   "provenance": []
  },
  "kernelspec": {
   "display_name": "Python 3",
   "language": "python",
   "name": "python3"
  },
  "language_info": {
   "codemirror_mode": {
    "name": "ipython",
    "version": 3
   },
   "file_extension": ".py",
   "mimetype": "text/x-python",
   "name": "python",
   "nbconvert_exporter": "python",
   "pygments_lexer": "ipython3",
   "version": "3.7.4"
  }
 },
 "nbformat": 4,
 "nbformat_minor": 1
}
