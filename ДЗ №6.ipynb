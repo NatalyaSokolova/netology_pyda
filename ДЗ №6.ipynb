{
 "cells": [
  {
   "cell_type": "markdown",
   "metadata": {},
   "source": [
    "# Домашнее задание к лекции \"Регулярные выражения\"\n",
    "Для зачета необходимо выполнить 4 задания.  \n",
    "Для зачета с отличием – все."
   ]
  },
  {
   "cell_type": "markdown",
   "metadata": {},
   "source": [
    "## Задание 1"
   ]
  },
  {
   "cell_type": "markdown",
   "metadata": {},
   "source": [
    "Напишите функцию, которая принимает на вход строку и проверяет является ли она валидным транспортным номером. Если да, то функция должна возвращать отдельно номер и регион."
   ]
  },
  {
   "cell_type": "code",
   "execution_count": null,
   "metadata": {},
   "outputs": [
    {
     "name": "stdout",
     "output_type": "stream",
     "text": [
      "Введите номер автомобиля:\n"
     ]
    }
   ],
   "source": [
    "import re\n",
    "print('Введите номер автомобиля:')\n",
    "car_num=input()\n",
    "result = re.findall(r'[а-яёА-ЯЁ]{1}\\d{3}[а-яёА-ЯЁ]{2}\\d{2,3}', car_num)\n",
    "if result:\n",
    "     print('Номер:',result[0][0:6],', Регион:', result[0][6:]) \n",
    "else:\n",
    "     print('Неверный формат № автомобиля')\n"
   ]
  },
  {
   "cell_type": "markdown",
   "metadata": {},
   "source": [
    "## Задание 2"
   ]
  },
  {
   "cell_type": "markdown",
   "metadata": {},
   "source": [
    "Напишите функцию, которая проверяет e-mail адрес на валидность по стандарту RFC822: http://www.w3.org/Protocols/rfc822/. Для этого постарайтесь написать (в крайнем случае найти) самый полный шаблон для проверки e-mail адресов через регулярное выражение. Разберитесь и напишите примеры, какие ваш шаблон может не охватить."
   ]
  },
  {
   "cell_type": "code",
   "execution_count": 11,
   "metadata": {},
   "outputs": [
    {
     "name": "stdout",
     "output_type": "stream",
     "text": [
      "Введите email для проверки\n",
      "natalya.v.sokolova2016@gmail.co\n",
      "Valid Email\n"
     ]
    }
   ],
   "source": [
    "#Пример regex'а взяла в интернете. Чего не хватает: проверки наименований типовых доменов, например:\n",
    "#не проверяет gmail.com правильно ли введен. Учитывает отсутствие всех знаков препинания (кроме точки)\n",
    "import re                  \n",
    "regex = '^\\w+([\\.-]?\\w+)*@\\w+([\\.-]?\\w+)*(\\.\\w{2,3})+$'   \n",
    "def check(email):\n",
    "    if(re.search(regex,email)):  \n",
    "        print(\"Valid Email\")            \n",
    "    else:  \n",
    "        print(\"Invalid Email\")                      \n",
    "if __name__ == '__main__' :  \n",
    "    print('Введите email для проверки')\n",
    "    email = input()\n",
    "    check(email) "
   ]
  },
  {
   "cell_type": "code",
   "execution_count": null,
   "metadata": {},
   "outputs": [],
   "source": []
  },
  {
   "cell_type": "markdown",
   "metadata": {},
   "source": [
    "## Задание 3\n",
    "Напишите функцию, которая будет удалять все последовательные повторы слов из заданной строки."
   ]
  },
  {
   "cell_type": "code",
   "execution_count": 11,
   "metadata": {},
   "outputs": [
    {
     "name": "stdout",
     "output_type": "stream",
     "text": [
      "Тридцать три корабля лавировалилавировали да не вылавировали\n"
     ]
    }
   ],
   "source": [
    "import re\n",
    "text = 'Тридцать три корабля лавировали-лавировали, лавировали-лавировали, лавировали-лавировали, да не вылавировали'\n",
    "del_commas = re.sub(r'[^\\w\\s]', '', text, re.UNICODE)\n",
    "re_output = re.sub(r'\\b(\\w+)( \\1\\b)+', r'\\1', del_commas)\n",
    "print(re_output)\n"
   ]
  },
  {
   "cell_type": "markdown",
   "metadata": {},
   "source": [
    "## Задание 4\n",
    "Напишите функцию, которая будет проверять номер сотового телефона на валидность, если он валиден, то переводить его в формат:   \n",
    "+7(xxx)-xxx-xx-xx  \n",
    "Постарайтесь предусмотреть как можно больше адекватных форматов изначального ввода номера.\n",
    "Примеры правильных и неправильных форматов:\n",
    "- +7 955 555-55-55;\n",
    "- 955555555;\n",
    "- 8(955)555-55-55;\n",
    "- +7 955 555 55 55;\n",
    "- 7(955) 555-55-55;\n",
    "- +7 955+555+55+55."
   ]
  },
  {
   "cell_type": "code",
   "execution_count": 12,
   "metadata": {},
   "outputs": [
    {
     "name": "stdout",
     "output_type": "stream",
     "text": [
      "+7(955)-555-55-55\n",
      "Неверный формат номера телефона: 955555555\n",
      "+7(955)-555-55-55\n",
      "+7(955)-555-55-55\n",
      "+7(955)-555-55-55\n",
      "+7(955)-555-55-55\n"
     ]
    }
   ],
   "source": [
    "my_phones = ['+7 955 555-55-55','955555555','8(955)555-55-55','+7 955 555 55 55',\n",
    "             '7(955) 555-55-55','+7 955+555+55+55']\n",
    "\n",
    "import re\n",
    "def check_phone_number(number):\n",
    "    number = re.sub(r'\\D+','',number)\n",
    "    if len(number) == 10:\n",
    "        return re.sub(r'(\\d{3})(\\d{3})(\\d{2})(\\d{2})',r'+7(\\1)-\\2-\\3-\\4',number)\n",
    "    elif len(number) == 11 and number[0] in ['7','8']:\n",
    "        return re.sub(r'\\d(\\d{3})(\\d{3})(\\d{2})(\\d{2})',r'+7(\\1)-\\2-\\3-\\4',number)\n",
    "    elif len(number)<10 or len(number)>11:\n",
    "        return False\n",
    "for phone in my_phones:\n",
    "    res = check_phone_number(phone)\n",
    "    if res:\n",
    "        print(res)\n",
    "    else: \n",
    "        print('Неверный формат номера телефона:',phone)\n"
   ]
  },
  {
   "cell_type": "code",
   "execution_count": null,
   "metadata": {},
   "outputs": [],
   "source": []
  }
 ],
 "metadata": {
  "kernelspec": {
   "display_name": "Python 3",
   "language": "python",
   "name": "python3"
  },
  "language_info": {
   "codemirror_mode": {
    "name": "ipython",
    "version": 3
   },
   "file_extension": ".py",
   "mimetype": "text/x-python",
   "name": "python",
   "nbconvert_exporter": "python",
   "pygments_lexer": "ipython3",
   "version": "3.7.4"
  }
 },
 "nbformat": 4,
 "nbformat_minor": 2
}
