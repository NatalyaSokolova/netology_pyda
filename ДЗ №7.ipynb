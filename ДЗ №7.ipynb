{
 "cells": [
  {
   "cell_type": "markdown",
   "metadata": {},
   "source": [
    "## Задание 1"
   ]
  },
  {
   "cell_type": "markdown",
   "metadata": {},
   "source": [
    "Напишите функцию date_range, которая возвращает список дней между датами start_date и end_date. Даты должны вводиться в формате YYYY-MM-DD."
   ]
  },
  {
   "cell_type": "code",
   "execution_count": 96,
   "metadata": {},
   "outputs": [
    {
     "name": "stdout",
     "output_type": "stream",
     "text": [
      "2020-01-01\n",
      "2020-01-02\n",
      "2020-01-03\n",
      "2020-01-04\n",
      "2020-01-05\n",
      "2020-01-06\n",
      "2020-01-07\n",
      "2020-01-08\n",
      "2020-01-09\n",
      "2020-01-10\n",
      "2020-01-11\n",
      "2020-01-12\n",
      "2020-01-13\n",
      "2020-01-14\n",
      "2020-01-15\n"
     ]
    }
   ],
   "source": [
    "#Решение 1\n",
    "\n",
    "def date_range():\n",
    "    from datetime import date, timedelta\n",
    "\n",
    "    start_date = date(2020,1,1)\n",
    "    end_date = date(2020,1,15)\n",
    "    delta=end_date-start_date\n",
    "\n",
    "    for i in range (delta.days+1):\n",
    "        day =start_date+timedelta(days=i)  \n",
    "        print(day)   \n",
    "date_range()"
   ]
  },
  {
   "cell_type": "code",
   "execution_count": 95,
   "metadata": {},
   "outputs": [
    {
     "name": "stdout",
     "output_type": "stream",
     "text": [
      "2020-01-01\n",
      "2020-01-02\n",
      "2020-01-03\n",
      "2020-01-04\n",
      "2020-01-05\n",
      "2020-01-06\n",
      "2020-01-07\n",
      "2020-01-08\n",
      "2020-01-09\n",
      "2020-01-10\n",
      "2020-01-11\n",
      "2020-01-12\n",
      "2020-01-13\n",
      "2020-01-14\n"
     ]
    }
   ],
   "source": [
    "#Решение 2\n",
    "def date_range1():\n",
    "    from datetime import datetime\n",
    "    from datetime import date, timedelta\n",
    "    start_date = '01.01.2020 19:00'\n",
    "    end_date = '15.01.2020 18:30'\n",
    "\n",
    "    start_date_dt = datetime.strptime(start_date, '%d.%m.%Y %H:%M')\n",
    "    end_date_dt = datetime.strptime(end_date, '%d.%m.%Y %H:%M')\n",
    "\n",
    "    while start_date_dt <= end_date_dt:\n",
    "        print(start_date_dt.strftime('%Y-%m-%d'))    \n",
    "        start_date_dt += timedelta(days=1)\n",
    "date_range1()        "
   ]
  },
  {
   "cell_type": "markdown",
   "metadata": {},
   "source": [
    "## Задание 2"
   ]
  },
  {
   "cell_type": "markdown",
   "metadata": {},
   "source": [
    "Дополните функцию из первого задания проверкой на корректность дат. В случае неверного формата или если start_date > end_date должен возвращаться пустой список."
   ]
  },
  {
   "cell_type": "code",
   "execution_count": 97,
   "metadata": {},
   "outputs": [
    {
     "name": "stdout",
     "output_type": "stream",
     "text": [
      "Дата начала периода: 2020-01-01 00:00:00\n",
      "Дата окончания периода: 2020-01-15 00:00:00\n",
      "Список дат от начала до окончания периода:\n",
      "2020-01-01\n",
      "2020-01-02\n",
      "2020-01-03\n",
      "2020-01-04\n",
      "2020-01-05\n",
      "2020-01-06\n",
      "2020-01-07\n",
      "2020-01-08\n",
      "2020-01-09\n",
      "2020-01-10\n",
      "2020-01-11\n",
      "2020-01-12\n",
      "2020-01-13\n",
      "2020-01-14\n",
      "2020-01-15\n"
     ]
    }
   ],
   "source": [
    "#1. Переписываем код из задания 1\n",
    "start_date1 = '2020-01-01'\n",
    "end_date1 = '2020-01-15'\n",
    "def initial_code():\n",
    "    from datetime import datetime\n",
    "    from datetime import date, timedelta\n",
    "    \n",
    "\n",
    "    start_date_dt1 = datetime.strptime(start_date1, '%Y-%m-%d')\n",
    "    end_date_dt1 = datetime.strptime(end_date1, '%Y-%m-%d')\n",
    "\n",
    "    while start_date_dt1 <= end_date_dt1:\n",
    "        print(start_date_dt1.strftime('%Y-%m-%d'))    \n",
    "        start_date_dt1 += timedelta(days=1)\n",
    "    \n",
    "\n",
    "#2. Проверяем на формат\n",
    "\n",
    "def date_converter(any_date):\n",
    "    try:\n",
    "        return datetime.strptime(any_date,'%Y-%m-%d')\n",
    "    except ValueError:\n",
    "        return 'ошибка'\n",
    "\n",
    "\n",
    "#3. Проверяем на ошибки\n",
    "def datediff_modified(start_date1, end_date1):\n",
    "    from datetime import datetime\n",
    "    from datetime import date, timedelta\n",
    "    empty_list=[]\n",
    "    try:\n",
    "        if date_converter(end_date1)=='ошибка':\n",
    "            return f'ошибка\"{end_date1}\"'\n",
    "        elif date_converter(start_date1)=='ошибка':\n",
    "            return f'ошибка\"{start_date1}\"'\n",
    "        else:\n",
    "            return initial_code()\n",
    "    except:\n",
    "        return empty_list\n",
    "print(f'Дата начала периода: {date_converter(start_date1)}')\n",
    "print(f'Дата окончания периода: {date_converter(end_date1)}')\n",
    "print('Список дат от начала до окончания периода:')\n",
    "datediff_modified(start_date1, end_date1) \n"
   ]
  },
  {
   "cell_type": "code",
   "execution_count": null,
   "metadata": {},
   "outputs": [],
   "source": []
  },
  {
   "cell_type": "markdown",
   "metadata": {},
   "source": [
    "## Задание 3"
   ]
  },
  {
   "cell_type": "markdown",
   "metadata": {},
   "source": [
    "Дан поток дат в формате YYYY-MM-DD, в которых встречаются некорректные значения:\n",
    "stream = [‘2018-04-02’, ‘2018-02-29’, ‘2018-19-02’]\n",
    "\n",
    "Напишите функцию, которая проверяет эти даты на корректность. Т. е. для каждой даты возвращает True (дата корректна) или False (некорректная дата)."
   ]
  },
  {
   "cell_type": "code",
   "execution_count": 90,
   "metadata": {},
   "outputs": [
    {
     "name": "stdout",
     "output_type": "stream",
     "text": [
      "дата \"2018-04-02\" корректна: True\n",
      "дата \"2018-02-29\" некорректна: False\n",
      "дата \"2018-19-02\" некорректна: False\n"
     ]
    }
   ],
   "source": [
    "from datetime import datetime\n",
    "stream = ['2018-04-02', '2018-02-29', '2018-19-02']\n",
    "def check_date(any_date):\n",
    "    try:\n",
    "        datetime.strptime(any_date, '%Y-%m-%d')\n",
    "        return print('дата \"{}\" корректна: {}'.format(any_date, True))\n",
    "    except ValueError:\n",
    "        return print('дата \"{}\" некорректна: {}'.format(any_date, False))\n",
    "\n",
    "for dt in stream:\n",
    "    check_date(dt)"
   ]
  },
  {
   "cell_type": "code",
   "execution_count": null,
   "metadata": {},
   "outputs": [],
   "source": []
  },
  {
   "cell_type": "markdown",
   "metadata": {},
   "source": []
  },
  {
   "cell_type": "code",
   "execution_count": null,
   "metadata": {},
   "outputs": [],
   "source": []
  },
  {
   "cell_type": "code",
   "execution_count": null,
   "metadata": {},
   "outputs": [],
   "source": []
  },
  {
   "cell_type": "code",
   "execution_count": null,
   "metadata": {},
   "outputs": [],
   "source": []
  }
 ],
 "metadata": {
  "kernelspec": {
   "display_name": "Python 3",
   "language": "python",
   "name": "python3"
  },
  "language_info": {
   "codemirror_mode": {
    "name": "ipython",
    "version": 3
   },
   "file_extension": ".py",
   "mimetype": "text/x-python",
   "name": "python",
   "nbconvert_exporter": "python",
   "pygments_lexer": "ipython3",
   "version": "3.7.4"
  }
 },
 "nbformat": 4,
 "nbformat_minor": 2
}
