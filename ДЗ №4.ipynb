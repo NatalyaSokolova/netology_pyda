{
 "cells": [
  {
   "cell_type": "markdown",
   "metadata": {},
   "source": [
    "## Задание 1"
   ]
  },
  {
   "cell_type": "markdown",
   "metadata": {},
   "source": [
    "Дан список вида:"
   ]
  },
  {
   "cell_type": "code",
   "execution_count": 2,
   "metadata": {},
   "outputs": [
    {
     "name": "stdout",
     "output_type": "stream",
     "text": [
      "103\n"
     ]
    }
   ],
   "source": [
    "data = [\n",
    "    [13, 20, 23, 34],\n",
    "    [45, 32, 44, 47],\n",
    "    [12, 33, 23, 95],\n",
    "    [13, 53, 34, 35]\n",
    "]\n",
    "\n",
    "\n",
    "def sum_of_diags(data):\n",
    "    size = len(data)\n",
    "    diag_sum = 0\n",
    "    for i in range(size):\n",
    "        diag_sum += data[i][i]\n",
    "        \n",
    "    return diag_sum\n",
    "\n",
    "print(sum_of_diags(data))\n"
   ]
  },
  {
   "cell_type": "markdown",
   "metadata": {},
   "source": [
    "Напишите функцию, которая возвращает сумму элементов на диагонали. Т. е. 13+32+23+35.  \n",
    "Список может быть любой длины, но всегда является \"квадратным\" (количество элементов во вложенных списках равно их количеству)."
   ]
  },
  {
   "cell_type": "markdown",
   "metadata": {},
   "source": [
    "## Задание 2"
   ]
  },
  {
   "cell_type": "code",
   "execution_count": null,
   "metadata": {},
   "outputs": [],
   "source": [
    "#Напишите функцию, возвращающую сумму первых n чисел Фибоначчи (для этого вам может понадобится ознакомиться с рекурсией).\n",
    "\n",
    "def fibonacchi(n):\n",
    "    if n<2:\n",
    "        return 1\n",
    "    else:\n",
    "        res = fibonacchi(n-1) + fibonacchi(n-2)\n",
    "        return res\n",
    "\n",
    "n=0\n",
    "n = int(input('Введите сумму скольки первых чисел Фибоначчи суммировать:'))\n",
    "sum = 0\n",
    "for i in range(0, n):\n",
    "    r = fibonacchi(i)\n",
    "    sum += r\n",
    "    \n",
    "\n",
    "print(\"Сумма первых\",n, 'чисел Фибоначчи равна', sum)\n",
    "\n",
    "\n",
    "\n",
    "\n",
    "\n",
    "\n"
   ]
  },
  {
   "cell_type": "markdown",
   "metadata": {},
   "source": [
    "## Задание 3\n"
   ]
  },
  {
   "cell_type": "code",
   "execution_count": null,
   "metadata": {},
   "outputs": [],
   "source": [
    "#Напишите функцию, преобразующую произвольный список вида ['2018-01-01', 'yandex', 'cpc', 100] \n",
    "#(он может быть любой длины) в словарь {'2018-01-01': {'yandex': {'cpc': 100}}}\n",
    "\n",
    "\n",
    "data =['2018-01-01', 'yandex', 'cpc', 100] \n",
    "def result (data):\n",
    "       if data:\n",
    "        x= {data[0]: {data[1]: dict.fromkeys([data[2]],data[3])}  }\n",
    "    \n",
    "        return x\n",
    "\n",
    "result(data)\n",
    "\n"
   ]
  },
  {
   "cell_type": "markdown",
   "metadata": {},
   "source": [
    "## Задание 4"
   ]
  },
  {
   "cell_type": "markdown",
   "metadata": {},
   "source": [
    "Вы работаете секретарем и вам постоянно приходят различные документы. Вы должны быть очень внимательны, чтобы не потерять ни один документ. Каталог документов хранится в следующем виде:"
   ]
  },
  {
   "cell_type": "code",
   "execution_count": 2,
   "metadata": {},
   "outputs": [],
   "source": [
    "directories = {\n",
    "    '1': ['2207 876234', '11-2', '5455 028765'],\n",
    "    '2': ['10006', '5400 028765', '5455 002299'],\n",
    "    '3': []\n",
    "}\n",
    "\n"
   ]
  },
  {
   "cell_type": "markdown",
   "metadata": {},
   "source": [
    "Перечень полок, на которых находятся документы хранится в следующем виде:"
   ]
  },
  {
   "cell_type": "code",
   "execution_count": null,
   "metadata": {},
   "outputs": [],
   "source": []
  },
  {
   "cell_type": "code",
   "execution_count": null,
   "metadata": {},
   "outputs": [],
   "source": [
    "documents = [\n",
    "    {'type': 'passport', 'number': '2207 876234', 'name': 'Василий Гупкин'},\n",
    "    {'type': 'invoice', 'number': '11-2', 'name': 'Геннадий Покемонов'},\n",
    "    {'type': 'insurance', 'number': '10006', 'name': 'Аристарх Павлов'}\n",
    "]\n",
    "\n",
    "\n",
    "directories = {\n",
    "    '1': ['2207 876234', '11-2', '5455 028765'],\n",
    "    '2': ['10006', '5400 028765', '5455 002299'],\n",
    "    '3': []\n",
    "}\n",
    "\n",
    "\n",
    "def people():\n",
    "    print('Введите № документа: ')\n",
    "    number_doc = input()\n",
    "    for document in documents:\n",
    "        if document['number'] == number_doc:\n",
    "            print(document['name'])\n",
    "    return\n",
    "def li_st():\n",
    "    for document in documents:\n",
    "        print('{} {} {}'.format(document['type'], document['number'], document['name']))\n",
    "    return\n",
    "\n",
    "def shelf():\n",
    "    found=0\n",
    "    print('Введите № документа:')\n",
    "    num_doc = input()\n",
    "    for key_directories in directories:\n",
    "        for values_directories in directories[key_directories]:\n",
    "            if (num_doc == values_directories):\n",
    "                print('Полка №:', key_directories)\n",
    "                found=1\n",
    "               \n",
    "    \n",
    "    if found == 0:\n",
    "         print('Документа не существует')\n",
    "    return\n",
    "                \n",
    "#Удаление документа с полок и из каталога\n",
    "def remove_doc():\n",
    "    print('Введите номер НЕнужного документа:')\n",
    "    before_delete=len(documents)\n",
    "    user_input = input()\n",
    "    x=0\n",
    "    for d in documents:\n",
    "      \n",
    "        if d['number']== user_input:\n",
    "            del documents[x]\n",
    "        \n",
    "        x=x+1   \n",
    "        \n",
    "    after_delete=len(documents)  \n",
    "    \n",
    "    if before_delete== after_delete:\n",
    "        print('ошибка')\n",
    "    else :\n",
    "        print(documents)\n",
    "    return\n",
    "         \n",
    "#Замена номера полки\n",
    "def replace_shelf_num():\n",
    "    counter=0\n",
    "    b=0\n",
    "    print('Введите № документа:')\n",
    "    x=input()\n",
    "    allvalues=[]\n",
    "    for direct in directories.values():\n",
    "        for item in direct:\n",
    "            allvalues.append(item)\n",
    "\n",
    "    if x not in allvalues:\n",
    "            print('Вы ввели некорректный номер документа')\n",
    "\n",
    "    else:\n",
    "            print('Введите № желаемой полки:')\n",
    "            new=input()\n",
    "            if new not in directories.keys():\n",
    "                print ('ошибка в номере полки' )\n",
    "\n",
    "            else:\n",
    "                for direct in directories.values():\n",
    "\n",
    "                    if x in direct:\n",
    "\n",
    "                        direct.remove(x)\n",
    "                        directories[new].append(x)       \n",
    "                        break\n",
    "                else:\n",
    "                    counter+=1\n",
    "                print(directories)\n",
    "    return\n",
    "   \n",
    "    \n",
    "     \n",
    "def add_document():\n",
    "    add_doc = input('Type (passport, invoice, insurance):')\n",
    "    add_number = input('number:')\n",
    "    add_name = input('name:')\n",
    "    information = {'type': add_doc, 'number': add_number, 'name': add_name}\n",
    "    add_key = input('directory:')\n",
    "    directories[add_key].append(add_number)\n",
    "    documents.append(information)\n",
    "    return\n",
    "\n",
    "def new_documents_list():\n",
    "    for document in documents:\n",
    "        print('{} {} {}'.format(document['type'], document ['number'], document ['name']))\n",
    "    return\n",
    "\n",
    "def main():\n",
    "    print (\"Что вы хотите сделать? \\n 1. Узнать ФИО человека по номеру документа? Введите p\\n 2. Вывести список всех документов ?  Введите l\\n 3.Узнать номер полки, на которой храниться документ? Введите s\\\n",
    "           \\n 4. Добавить новые документ для хранения? Введите a\\n 5. Удалить документ? Введите d\\n 6. Заменить номер полки? Введите m\")\n",
    "    user_input = input()\n",
    "    if user_input == 'p':\n",
    "        people()\n",
    "    elif user_input == 'l':\n",
    "        li_st()\n",
    "    elif user_input == 'd':\n",
    "        remove_doc()   \n",
    "    elif user_input == 'm':\n",
    "        replace_shelf_num()   \n",
    "    elif user_input == 's':\n",
    "        shelf()\n",
    "    elif user_input == 'a':\n",
    "        add_document()\n",
    "        new_documents_list() \n",
    "    else:\n",
    "        print (\"Вы неверно ввели номер функции\")\n",
    "    return\n",
    "while True:\n",
    "    main()\n",
    "   "
   ]
  },
  {
   "cell_type": "raw",
   "metadata": {},
   "source": [
    "# Необходимо реализовать пользовательские команды (внимание! это не название функций, которые должны быть выразительными, а команды, которые вводит пользователь, чтобы получить необходимый результат):\n",
    "  \n",
    "v - p – people – команда, которая спросит номер документа и выведет имя человека, которому он принадлежит;  \n",
    "v - s – shelf – команда, которая спросит номер документа и выведет номер полки, на которой он находится  \n",
    "Правильно обработайте ситуацию, когда пользователь будет вводить несуществующий документ.\n",
    "v - l – list – команда, которая выведет список всех документов в формате   \n",
    "**passport \"2207 876234\" \"Василий Гупкин\"**  \n",
    "- as – add shelf – команда, которая спросит номер новой полки и добавит ее в перечень\n",
    "v - d – delete – команда, которая спросит номер документа и удалит его из каталога и из перечня полок. Предусмотрите сценарий, когда пользователь вводит несуществующий документ;  \n",
    "- m – move – команда, которая спросит номер документа и целевую полку и переместит его с текущей полки на целевую. Корректно обработайте кейсы, когда пользователь пытается переместить несуществующий документ или переместить документ на несуществующую полку;  \n",
    "v - a – add – команда, которая добавит новый документ в каталог и в перечень полок, спросив его номер, тип, имя владельца и номер полки, на котором он будет храниться."
   ]
  },
  {
   "cell_type": "code",
   "execution_count": null,
   "metadata": {},
   "outputs": [],
   "source": []
  },
  {
   "cell_type": "code",
   "execution_count": null,
   "metadata": {},
   "outputs": [],
   "source": []
  },
  {
   "cell_type": "code",
   "execution_count": null,
   "metadata": {},
   "outputs": [],
   "source": []
  }
 ],
 "metadata": {
  "kernelspec": {
   "display_name": "Python 3",
   "language": "python",
   "name": "python3"
  },
  "language_info": {
   "codemirror_mode": {
    "name": "ipython",
    "version": 3
   },
   "file_extension": ".py",
   "mimetype": "text/x-python",
   "name": "python",
   "nbconvert_exporter": "python",
   "pygments_lexer": "ipython3",
   "version": "3.7.4"
  }
 },
 "nbformat": 4,
 "nbformat_minor": 2
}
